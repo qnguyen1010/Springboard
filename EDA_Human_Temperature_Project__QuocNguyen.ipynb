{
 "cells": [
  {
   "cell_type": "markdown",
   "metadata": {},
   "source": [
    "# What is the True Normal Human Body Temperature? \n",
    "\n",
    "#### Background\n",
    "\n",
    "The mean normal body temperature was held to be 37$^{\\circ}$C or 98.6$^{\\circ}$F for more than 120 years since it was first conceptualized and reported by Carl Wunderlich in a famous 1868 book. But, is this value statistically correct?"
   ]
  },
  {
   "cell_type": "markdown",
   "metadata": {},
   "source": [
    "<h3>Exercises</h3>\n",
    "\n",
    "<p>In this exercise, you will analyze a dataset of human body temperatures and employ the concepts of hypothesis testing, confidence intervals, and statistical significance.</p>\n",
    "\n",
    "<p>Answer the following questions <b>in this notebook below and submit to your Github account</b>.</p> \n",
    "\n",
    "<ol>\n",
    "<li>  Is the distribution of body temperatures normal? \n",
    "    <ul>\n",
    "    <li> Although this is not a requirement for the Central Limit Theorem to hold (read the introduction on Wikipedia's page about the CLT carefully: https://en.wikipedia.org/wiki/Central_limit_theorem), it gives us some peace of mind that the population may also be normally distributed if we assume that this sample is representative of the population.\n",
    "    <li> Think about the way you're going to check for the normality of the distribution. Graphical methods are usually used first, but there are also other ways: https://en.wikipedia.org/wiki/Normality_test\n",
    "    </ul>\n",
    "<li>  Is the sample size large? Are the observations independent?\n",
    "    <ul>\n",
    "    <li> Remember that this is a condition for the Central Limit Theorem, and hence the statistical tests we are using, to apply.\n",
    "    </ul>\n",
    "<li>  Is the true population mean really 98.6 degrees F?\n",
    "    <ul>\n",
    "    <li> First, try a bootstrap hypothesis test.\n",
    "    <li> Now, let's try frequentist statistical testing. Would you use a one-sample or two-sample test? Why?\n",
    "    <li> In this situation, is it appropriate to use the $t$ or $z$ statistic? \n",
    "    <li> Now try using the other test. How is the result be different? Why?\n",
    "    </ul>\n",
    "<li>  Draw a small sample of size 10 from the data and repeat both frequentist tests. \n",
    "    <ul>\n",
    "    <li> Which one is the correct one to use? \n",
    "    <li> What do you notice? What does this tell you about the difference in application of the $t$ and $z$ statistic?\n",
    "    </ul>\n",
    "<li>  At what temperature should we consider someone's temperature to be \"abnormal\"?\n",
    "    <ul>\n",
    "    <li> As in the previous example, try calculating everything using the boostrap approach, as well as the frequentist approach.\n",
    "    <li> Start by computing the margin of error and confidence interval. When calculating the confidence interval, keep in mind that you should use the appropriate formula for one draw, and not N draws.\n",
    "    </ul>\n",
    "<li>  Is there a significant difference between males and females in normal temperature?\n",
    "    <ul>\n",
    "    <li> What testing approach did you use and why?\n",
    "    <li> Write a story with your conclusion in the context of the original problem.\n",
    "    </ul>\n",
    "</ol>\n",
    "\n",
    "You can include written notes in notebook cells using Markdown: \n",
    "   - In the control panel at the top, choose Cell > Cell Type > Markdown\n",
    "   - Markdown syntax: http://nestacms.com/docs/creating-content/markdown-cheat-sheet\n",
    "\n",
    "#### Resources\n",
    "\n",
    "+ Information and data sources: http://www.amstat.org/publications/jse/datasets/normtemp.txt, http://www.amstat.org/publications/jse/jse_data_archive.htm\n",
    "+ Markdown syntax: http://nestacms.com/docs/creating-content/markdown-cheat-sheet\n",
    "\n",
    "****"
   ]
  },
  {
   "cell_type": "code",
   "execution_count": 2,
   "metadata": {},
   "outputs": [],
   "source": [
    "import pandas as pd\n",
    "\n",
    "df = pd.read_csv('data/human_body_temperature.csv')"
   ]
  },
  {
   "cell_type": "code",
   "execution_count": 3,
   "metadata": {},
   "outputs": [
    {
     "name": "stdout",
     "output_type": "stream",
     "text": [
      "<class 'pandas.core.frame.DataFrame'>\n",
      "RangeIndex: 130 entries, 0 to 129\n",
      "Data columns (total 3 columns):\n",
      "temperature    130 non-null float64\n",
      "gender         130 non-null object\n",
      "heart_rate     130 non-null float64\n",
      "dtypes: float64(2), object(1)\n",
      "memory usage: 3.1+ KB\n"
     ]
    }
   ],
   "source": [
    "df.info()"
   ]
  },
  {
   "cell_type": "code",
   "execution_count": 4,
   "metadata": {},
   "outputs": [],
   "source": [
    "import matplotlib.pyplot as plt\n",
    "import numpy as np\n",
    "import seaborn as sns"
   ]
  },
  {
   "cell_type": "code",
   "execution_count": 5,
   "metadata": {},
   "outputs": [],
   "source": [
    "def ecdf(data):\n",
    "    \"\"\"Compute ECDF for a one-dimensional array of measurements\"\"\"\n",
    "    # Number of data points: n\n",
    "    n = len(data)\n",
    "    \n",
    "    # x-data for the ECDF: x\n",
    "    x = np.sort(data)\n",
    "    \n",
    "    # y-data for the ECDF: y\n",
    "    y = np.arange(1,n+1)/n\n",
    "    \n",
    "    return x,y"
   ]
  },
  {
   "cell_type": "code",
   "execution_count": 6,
   "metadata": {},
   "outputs": [
    {
     "data": {
      "image/png": "[encoded data removed]",
      "text/plain": [
       "<Figure size 432x288 with 1 Axes>"
      ]
     },
     "metadata": {
      "needs_background": "light"
     },
     "output_type": "display_data"
    }
   ],
   "source": [
    "temp = df['temperature']\n",
    "\n",
    "# Compute mean and standard deviation: mu, sigma\n",
    "mu = np.mean(temp)\n",
    "sigma = np.std(temp)\n",
    "\n",
    "# Sample out of a normal distribution with this mu and sigma: samples\n",
    "samples = np.random.normal(mu, sigma, size = 10000)\n",
    "\n",
    "# Get the CDF of the samples and of the data\n",
    "x_theor, y_theor = ecdf(samples)\n",
    "x,y = ecdf(temp)\n",
    "\n",
    "# Plot the PDFs and show the plot\n",
    "plt.plot(x_theor,y_theor)\n",
    "plt.plot(x, y, marker = '.', linestyle = 'none')\n",
    "plt.xlabel('Temperature (F)')\n",
    "plt.ylabel('CDF')\n",
    "plt.show()"
   ]
  },
  {
   "cell_type": "markdown",
   "metadata": {},
   "source": [
    "### Question 1: Is the distribution of body temperatures normal?\n",
    "\n",
    "Answer: THIS SAMPLE of Body Temperature is normally distributed"
   ]
  },
  {
   "cell_type": "markdown",
   "metadata": {},
   "source": [
    "### Question 2: Is the sample size large? Are the observations independent?\n",
    "\n",
    "Answer: Sample size n = 130 > 30 -- large enough\n",
    "        Observations are independent"
   ]
  },
  {
   "cell_type": "markdown",
   "metadata": {},
   "source": [
    "### Question 3: Is the true population mean really 98.6 degrees F?\n",
    "\n",
    "* First, try a bootstrap hypothesis test.\n",
    "\n",
    "* Now, let's try frequentist statistical testing. Would you use a one-sample or two-sample test? Why?\n",
    "\n",
    "* In this situation, is it appropriate to use the t or  𝑧 statistic?\n",
    "\n",
    "* Now try using the other test. How is the result be different? Why?"
   ]
  },
  {
   "cell_type": "markdown",
   "metadata": {},
   "source": [
    "#### First, try a bootstrap hypothesis test"
   ]
  },
  {
   "cell_type": "code",
   "execution_count": 7,
   "metadata": {},
   "outputs": [
    {
     "name": "stdout",
     "output_type": "stream",
     "text": [
      "p value =  0.0\n",
      "\n",
      "Mean of initial temp sample =  98.24923076923078\n",
      "Propose value =  98.6\n",
      "difference from proposed value =  -0.35076923076921673\n",
      "\n",
      "Temp_shifted\n",
      "Mean =  98.59999999999992\n",
      "STD =  0.730357778905038\n",
      "\n",
      "Bootstrap Replicates\n",
      "Mean =  5.4769230762181563e-05\n",
      "STD =  0.06388641978908707\n"
     ]
    },
    {
     "data": {
      "image/png": "[encoded data removed]",
      "text/plain": [
       "<Figure size 432x288 with 1 Axes>"
      ]
     },
     "metadata": {
      "needs_background": "light"
     },
     "output_type": "display_data"
    }
   ],
   "source": [
    "# Bootstrap hypothesis test\n",
    "# Ho : the true population mean is 98.6 degrees F\n",
    "# Ha : the true population mean is different from 98.6 degrees F\n",
    "# Significant level: alpha = 0.05\n",
    "\n",
    "# Bootstrap Replicates Function\n",
    "def draw_bs_reps(data,func,size=1):\n",
    "    \"\"\"Draw bootstrap replicates\"\"\"\n",
    "    \n",
    "    #Initialize array of replicates: bs_replicates\n",
    "    bs_replicates = np.empty(size)\n",
    "    \n",
    "    #Generate replicates\n",
    "    for i in range(size):\n",
    "        bs_replicates[i] = func(np.random.choice(data,size=len(data)))\n",
    "        \n",
    "    return bs_replicates\n",
    "\n",
    "# Shifting our sample of body temperature\n",
    "propose_value = 98.6\n",
    "temp_shifted = temp - np.mean(temp) + propose_value\n",
    "\n",
    "# Our test statistics is the difference between mean of bootstrap samples\n",
    "# and propose_value\n",
    "\n",
    "def diff_value(data,propose_value=98.6):\n",
    "    return np.mean(data) - propose_value\n",
    "\n",
    "diff_obs = diff_value(temp)\n",
    "\n",
    "# Take 10,000 bootstrap replicates of the mean:\n",
    "bs_replicates = draw_bs_reps(temp_shifted,diff_value,size = 10000)\n",
    "\n",
    "p_value = np.sum(bs_replicates <= diff_obs)/10000\n",
    "\n",
    "print('p value = ',p_value)\n",
    "print('')\n",
    "\n",
    "# Test\n",
    "print('Mean of initial temp sample = ',np.mean(temp))\n",
    "print('Propose value = ',propose_value)\n",
    "print('difference from proposed value = ',diff_obs)\n",
    "print('')\n",
    "\n",
    "print('Temp_shifted')\n",
    "print('Mean = ', np.mean(temp_shifted))\n",
    "print('STD = ', np.std(temp_shifted))\n",
    "print('')\n",
    "\n",
    "print('Bootstrap Replicates')\n",
    "print('Mean = ',np.mean(bs_replicates))\n",
    "print('STD = ',np.std(bs_replicates))\n",
    "\n",
    "# Make a histogram of the results\n",
    "plt.hist(bs_replicates, bins = 100, density = True)\n",
    "plt.xlabel('Difference from Propose Value(F)')\n",
    "plt.ylabel('PDF')\n",
    "plt.show()"
   ]
  },
  {
   "cell_type": "markdown",
   "metadata": {},
   "source": [
    "The p_value is very small, thus we can reject the null hypothesis that the true population mean is 98.6 degree F"
   ]
  },
  {
   "cell_type": "markdown",
   "metadata": {},
   "source": [
    "#### Now, let's try frequentist statistical testing. Would you use a one-sample or two-sample test? Why?\n",
    "\n",
    "Here we would use a one-sample test, because we compare 1 set of data to a single value.\n",
    "\n",
    "I am not quite sure what kind of test is required here for the \"frequentist statistical testing\". I guess it is either z or t statistics test.\n",
    "\n",
    "#### In this situation, is it appropriate to use the t or 𝑧 statistic?\n",
    "Here we are working with sample mean. Since the population standard deviation is not known and the sample size is larger than 30, I would use z-score with estimated standard error"
   ]
  },
  {
   "cell_type": "code",
   "execution_count": 13,
   "metadata": {},
   "outputs": [
    {
     "name": "stdout",
     "output_type": "stream",
     "text": [
      "z-score =  -5.454823292364079\n"
     ]
    }
   ],
   "source": [
    "# z-score test\n",
    "\n",
    "# Hypothesis\n",
    "# Ho : the true population mean is 98.6 degrees F\n",
    "# Ha : the true population mean is different from 98.6 degrees F\n",
    "# Significant level: alpha = 0.05\n",
    "\n",
    "# Calculate standard error of the sampling distribution of the sample mean\n",
    "std_sample = np.std(temp)*np.sqrt(len(temp)/(len(temp)-1))\n",
    "se = std_sample/np.sqrt(len(temp))\n",
    "\n",
    "# Calculate z-score\n",
    "z_score = (np.mean(temp) - propose_value)/se\n",
    "print('z-score = ',z_score)"
   ]
  },
  {
   "cell_type": "markdown",
   "metadata": {},
   "source": [
    "The value of z_score is too small, cannot find it on z table. \n",
    "\n",
    "t_score should be the same as z_score.\n",
    "\n",
    "So how do we proceed from here? Can we conclude that p_value is very very small with this z_score so we can reject the null hypothesis?"
   ]
  },
  {
   "cell_type": "markdown",
   "metadata": {},
   "source": [
    "### Question 4: Draw a small sample of size 10 from the data and repeat both frequentist tests.\n",
    "\n",
    "* Which one is the correct one to use?\n",
    "\n",
    "* What do you notice? What does this tell you about the difference in application of the t and z statistic?"
   ]
  },
  {
   "cell_type": "code",
   "execution_count": 21,
   "metadata": {},
   "outputs": [
    {
     "name": "stdout",
     "output_type": "stream",
     "text": [
      "[ 97.9 100.   97.9  98.6  98.1  98.7  97.4  98.6  98.1  97.9]\n",
      "z-score when using a small sample =  -1.2390512668067137\n",
      "\n",
      "t-score when using a small sample =  -1.2390512668067137\n"
     ]
    }
   ],
   "source": [
    "# Draw a small sample of size 10 from the data\n",
    "sml_sample = np.random.choice(temp,size=10,replace=False)\n",
    "print(sml_sample)\n",
    "\n",
    "# Calculate standard error of the sampling distribution of the sample mean\n",
    "std_sml_sample = np.std(sml_sample)*np.sqrt(len(sml_sample)/(len(sml_sample)-1))\n",
    "se_sml_sample = std_sml_sample/np.sqrt(len(sml_sample))\n",
    "\n",
    "# Calculate z-score\n",
    "z_score_sml = (np.mean(sml_sample)-propose_value)/se_sml_sample\n",
    "print('z-score when using a small sample = ',z_score_sml)\n",
    "print('')\n",
    "\n",
    "# Calculate t-score\n",
    "t_score_sml = (np.mean(sml_sample)-propose_value)/se_sml_sample\n",
    "print('t-score when using a small sample = ',t_score_sml)"
   ]
  },
  {
   "cell_type": "markdown",
   "metadata": {},
   "source": [
    "* z-score = -1.24 \n",
    "  Probability (z <= -1.24) = 0.5 - 0.3925 = 0.1075 > Significant level (5%)\n",
    "  \n",
    "  We cannot reject the null hypothesis in this case.\n",
    "\n",
    "\n",
    "* t-score = -1.24, n = 10, df = n - 1 = 9\n",
    "  We have: \n",
    "          t = 1.1; one-tail = 0.15 (df = 9)\n",
    "          t = 1.383; one-tail = 0.1 (df = 9)\n",
    "  Probability (t <= -1.24) > 0.1 > Significant level (5%)\n",
    "  \n",
    "  We also cannot reject the null hypothesis in this case.\n",
    "\n",
    "\n",
    "* Conclusion: for this small sample size, t-statistic test is the correct one to use. \n",
    "\n",
    "\n",
    "* Question: both t test and z test give the same results. I understand there's difference in their application, however it is not seen here."
   ]
  },
  {
   "cell_type": "code",
   "execution_count": 33,
   "metadata": {},
   "outputs": [
    {
     "name": "stdout",
     "output_type": "stream",
     "text": [
      "98.24923076923078\n",
      "98.32000000000001\n",
      "0.06430441683789101\n",
      "0.22597935008904327\n"
     ]
    }
   ],
   "source": [
    "# Why was there such big difference in z-score between the initial sample with the small sample?\n",
    "print(np.mean(temp))\n",
    "print(np.mean(sml_sample))\n",
    "print(se)\n",
    "print(se_sml_sample)"
   ]
  },
  {
   "cell_type": "markdown",
   "metadata": {},
   "source": [
    "### Question 5: At what temperature should we consider someone's temperature to be \"abnormal\"?\n",
    "\n",
    "#### As in the previous example, try calculating everything using the boostrap approach, as well as the frequentist approach.\n",
    "\n",
    "#### Start by computing the margin of error and confidence interval. When calculating the confidence interval, keep in mind that you should use the appropriate formula for one draw, and not N draws."
   ]
  },
  {
   "cell_type": "code",
   "execution_count": 26,
   "metadata": {},
   "outputs": [
    {
     "name": "stdout",
     "output_type": "stream",
     "text": [
      "Temperature is considered to be abnormal if it is outside of this range:  [98.12076923 98.37692308]\n"
     ]
    },
    {
     "data": {
      "image/png": "[encoded data removed]",
      "text/plain": [
       "<Figure size 432x288 with 1 Axes>"
      ]
     },
     "metadata": {
      "needs_background": "light"
     },
     "output_type": "display_data"
    }
   ],
   "source": [
    "# Bootstrap approach\n",
    "\n",
    "# Create bootstrap replicates with sample mean\n",
    "bs_replicates_mean = draw_bs_reps(temp,np.mean,size = 10000)\n",
    "\n",
    "conf_int = np.percentile(bs_replicates_mean,[2.5,97.5])\n",
    "\n",
    "print('Temperature is considered to be abnormal if it is outside of this range: ', conf_int)\n",
    "\n",
    "plt.hist(bs_replicates_mean,bins=100)\n",
    "plt.show()"
   ]
  },
  {
   "cell_type": "code",
   "execution_count": 32,
   "metadata": {},
   "outputs": [
    {
     "name": "stdout",
     "output_type": "stream",
     "text": [
      "95% confidence interval of the true mean is  [98.12319411 98.37526743]\n"
     ]
    }
   ],
   "source": [
    "# Frequentist approach\n",
    "# 95% confidence interval with z statistics \n",
    "x_bar_max = np.mean(temp) + 1.96*se\n",
    "x_bar_min = np.mean(temp) - 1.96*se\n",
    "conf = np.array([x_bar_min,x_bar_max])\n",
    "print('95% confidence interval of the true mean is ',conf)"
   ]
  },
  {
   "cell_type": "markdown",
   "metadata": {},
   "source": [
    "### Question 6: Is there a significant difference between males and females in normal temperature?\n",
    "#### What testing approach did you use and why?\n",
    "\n",
    "Permutate data of males and females. If there is no significant difference between these two groups, we should be able to obtain similar value of difference in the mean values.\n",
    "\n",
    "\n",
    "#### Write a story with your conclusion in the context of the original problem.\n",
    "\n",
    "#### Hypothesis Testing\n",
    "Ho: there is no significant difference between males and females in normal temperature\n",
    "\n",
    "Ha: there is difference\n",
    "\n",
    "Significant level: 5%"
   ]
  },
  {
   "cell_type": "code",
   "execution_count": 46,
   "metadata": {},
   "outputs": [
    {
     "name": "stdout",
     "output_type": "stream",
     "text": [
      "p-value = 0.0121\n",
      "0.0014209230769229805\n",
      "0.289230769230727\n"
     ]
    },
    {
     "data": {
      "image/png": "[encoded data removed]",
      "text/plain": [
       "<Figure size 432x288 with 1 Axes>"
      ]
     },
     "metadata": {
      "needs_background": "light"
     },
     "output_type": "display_data"
    }
   ],
   "source": [
    "# Define permutation function\n",
    "def permutation_sample(data1, data2):\n",
    "    \"\"\"Generate a permutation sample from two data sets.\"\"\"\n",
    "\n",
    "    # Concatenate the data sets: data\n",
    "    data = np.concatenate((data1,data2))\n",
    "\n",
    "    # Permute the concatenated array: permuted_data\n",
    "    permuted_data = np.random.permutation(data)\n",
    "\n",
    "    # Split the permuted array into two: perm_sample_1, perm_sample_2\n",
    "    perm_sample_1 = permuted_data[:len(data1)]\n",
    "    perm_sample_2 = permuted_data[len(data1):]\n",
    "\n",
    "    return perm_sample_1, perm_sample_2\n",
    "\n",
    "# Define permutation replicates function\n",
    "def draw_perm_reps(data_1, data_2, func, size=1):\n",
    "    \"\"\"Generate multiple permutation replicates.\"\"\"\n",
    "\n",
    "    # Initialize array of replicates: perm_replicates\n",
    "    perm_replicates = np.empty(size)\n",
    "\n",
    "    for i in range(size):\n",
    "        # Generate permutation sample\n",
    "        perm_sample_1, perm_sample_2 = permutation_sample(data_1,data_2)\n",
    "\n",
    "        # Compute the test statistic\n",
    "        perm_replicates[i] = func(perm_sample_1,perm_sample_2)\n",
    "\n",
    "    return perm_replicates\n",
    "\n",
    "# Generate males & females array\n",
    "male_temp = df.loc[df['gender']=='M']['temperature']\n",
    "female_temp = df.loc[df['gender']=='F']['temperature']\n",
    "\n",
    "# Define difference of means function\n",
    "def diff_of_means(data_1, data_2):\n",
    "    \"\"\"Difference in means of two arrays.\"\"\"\n",
    "\n",
    "    # The difference of means of data_1, data_2: diff\n",
    "    diff = np.mean(data_1) - np.mean(data_2)\n",
    "\n",
    "    return diff\n",
    "\n",
    "# Observed difference in mean temperature between male & female\n",
    "gen_diff_means = diff_of_means(female_temp,male_temp)\n",
    "\n",
    "# Draw 10,000 permutation replicates: perm_replicates\n",
    "perm_replicates = draw_perm_reps(female_temp, male_temp,\n",
    "                                 diff_of_means, size=10000)\n",
    "\n",
    "# Compute p-value: p\n",
    "p = np.sum(perm_replicates >= gen_diff_means) / len(perm_replicates)\n",
    "\n",
    "# Print the result\n",
    "print('p-value =', p)\n",
    "print(np.mean(perm_replicates))\n",
    "print(gen_diff_means)\n",
    "\n",
    "# Plot the result\n",
    "plt.clf()\n",
    "plt.hist(perm_replicates,bins=100,density='True')\n",
    "plt.xlabel('Difference in body temperature (F)')\n",
    "plt.ylabel('PDF')\n",
    "plt.show()"
   ]
  },
  {
   "cell_type": "markdown",
   "metadata": {},
   "source": [
    "#### Answer: \n",
    "\n",
    "p-value is **smaller** than the significant level, so we **reject** the null hypothesis. There is significant different between males and females in normal temperature"
   ]
  },
  {
   "cell_type": "code",
   "execution_count": 40,
   "metadata": {},
   "outputs": [
    {
     "name": "stdout",
     "output_type": "stream",
     "text": [
      "-0.289230769230727\n"
     ]
    }
   ],
   "source": [
    "print(np.mean(male_temp)-np.mean(female_temp))"
   ]
  },
  {
   "cell_type": "code",
   "execution_count": null,
   "metadata": {},
   "outputs": [],
   "source": []
  }
 ],
 "metadata": {
  "kernelspec": {
   "display_name": "Python 3",
   "language": "python",
   "name": "python3"
  },
  "language_info": {
   "codemirror_mode": {
    "name": "ipython",
    "version": 3
   },
   "file_extension": ".py",
   "mimetype": "text/x-python",
   "name": "python",
   "nbconvert_exporter": "python",
   "pygments_lexer": "ipython3",
   "version": "3.7.1"
  }
 },
 "nbformat": 4,
 "nbformat_minor": 1
}
