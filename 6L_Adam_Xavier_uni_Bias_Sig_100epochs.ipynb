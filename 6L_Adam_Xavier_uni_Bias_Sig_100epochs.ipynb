{
 "cells": [
  {
   "cell_type": "markdown",
   "metadata": {
    "colab_type": "text",
    "id": "5vJ7-mHwt_HE"
   },
   "source": [
    "#### My own functions"
   ]
  },
  {
   "cell_type": "code",
   "execution_count": 0,
   "metadata": {
    "colab": {},
    "colab_type": "code",
    "id": "2OtDqXmGt_HG"
   },
   "outputs": [],
   "source": [
    "def plot_hist(df, col, label):\n",
    "    plt.hist(df[col], label = label)\n",
    "    plt.legend()\n",
    "    plt.show()"
   ]
  },
  {
   "cell_type": "markdown",
   "metadata": {
    "colab_type": "text",
    "id": "zd8DbKj1t_HJ"
   },
   "source": [
    "### 1. Data Preparation"
   ]
  },
  {
   "cell_type": "code",
   "execution_count": 0,
   "metadata": {
    "_cell_guid": "b1076dfc-b9ad-4769-8c92-a6c4dae69d19",
    "_uuid": "8f2839f25d086af736a60e9eeb907d3b93b6e0e5",
    "colab": {},
    "colab_type": "code",
    "id": "q0cXboTlt_HK"
   },
   "outputs": [],
   "source": [
    "# General imports\n",
    "import numpy as np\n",
    "np.random.seed(0)\n",
    "import pandas as pd\n",
    "from sklearn.preprocessing import LabelEncoder\n",
    "import os, sys, gc, warnings, random, datetime\n",
    "from sklearn import metrics\n",
    "from sklearn.model_selection import train_test_split, KFold, StratifiedKFold\n",
    "import matplotlib.pyplot as plt\n",
    "import seaborn as sns\n",
    "from tqdm import tqdm\n",
    "\n",
    "import math\n",
    "\n",
    "warnings.filterwarnings('ignore')"
   ]
  },
  {
   "cell_type": "code",
   "execution_count": 0,
   "metadata": {
    "_cell_guid": "79c7e3d0-c299-4dcb-8224-4455121ee9b0",
    "_uuid": "d629ff2d2480ee46fbb7e2d37f6b5fab8052498a",
    "colab": {},
    "colab_type": "code",
    "id": "21vv92zut_HN"
   },
   "outputs": [],
   "source": [
    "########################### Helpers\n",
    "#################################################################################\n",
    "## -------------------\n",
    "## Seeder\n",
    "# :seed to make all processes deterministic     # type: int\n",
    "def seed_everything(seed=0):\n",
    "    random.seed(seed)\n",
    "    os.environ['PYTHONHASHSEED'] = str(seed)\n",
    "    np.random.seed(seed)\n",
    "## ------------------- \n",
    "\n",
    "## -------------------\n",
    "## Memory Reducer\n",
    "# :df pandas dataframe to reduce size             # type: pd.DataFrame()\n",
    "# :verbose                                        # type: bool\n",
    "def reduce_mem_usage(df, verbose=True):\n",
    "    numerics = ['int16', 'int32', 'int64', 'float16', 'float32', 'float64']\n",
    "    start_mem = df.memory_usage().sum() / 1024**2    \n",
    "    for col in df.columns:\n",
    "        col_type = df[col].dtypes\n",
    "        if col_type in numerics:\n",
    "            c_min = df[col].min()\n",
    "            c_max = df[col].max()\n",
    "            if str(col_type)[:3] == 'int':\n",
    "                if c_min > np.iinfo(np.int8).min and c_max < np.iinfo(np.int8).max:\n",
    "                    df[col] = df[col].astype(np.int8)\n",
    "                elif c_min > np.iinfo(np.int16).min and c_max < np.iinfo(np.int16).max:\n",
    "                    df[col] = df[col].astype(np.int16)\n",
    "                elif c_min > np.iinfo(np.int32).min and c_max < np.iinfo(np.int32).max:\n",
    "                    df[col] = df[col].astype(np.int32)\n",
    "                elif c_min > np.iinfo(np.int64).min and c_max < np.iinfo(np.int64).max:\n",
    "                    df[col] = df[col].astype(np.int64)  \n",
    "            else:\n",
    "                if c_min > np.finfo(np.float16).min and c_max < np.finfo(np.float16).max:\n",
    "                    df[col] = df[col].astype(np.float16)\n",
    "                elif c_min > np.finfo(np.float32).min and c_max < np.finfo(np.float32).max:\n",
    "                    df[col] = df[col].astype(np.float32)\n",
    "                else:\n",
    "                    df[col] = df[col].astype(np.float64)    \n",
    "    end_mem = df.memory_usage().sum() / 1024**2\n",
    "    if verbose: print('Mem. usage decreased to {:5.2f} Mb ({:.1f}% reduction)'.format(end_mem, 100 * (start_mem - end_mem) / start_mem))\n",
    "    return df\n",
    "## -------------------"
   ]
  },
  {
   "cell_type": "code",
   "execution_count": 0,
   "metadata": {
    "colab": {},
    "colab_type": "code",
    "id": "DRkyja3ht_HQ"
   },
   "outputs": [],
   "source": [
    "########################### Vars\n",
    "#################################################################################\n",
    "SEED = 42\n",
    "seed_everything(SEED)\n",
    "LOCAL_TEST = False\n",
    "TARGET = 'isFraud'"
   ]
  },
  {
   "cell_type": "code",
   "execution_count": 5,
   "metadata": {
    "colab": {
     "base_uri": "https://localhost:8080/",
     "height": 34
    },
    "colab_type": "code",
    "id": "BP4VzJjDt_HS",
    "outputId": "ac86ed74-0652-499a-f002-d175c9ee0000"
   },
   "outputs": [
    {
     "name": "stdout",
     "output_type": "stream",
     "text": [
      "Load Data\n"
     ]
    }
   ],
   "source": [
    "########################### DATA LOAD\n",
    "#################################################################################\n",
    "print('Load Data')\n",
    "\n",
    "train_df = pd.read_csv('/content/train_transaction.csv')\n",
    "test_df = pd.read_csv('/content/test_transaction.csv')\n",
    "test_df['isFraud'] = 0\n",
    "\n",
    "train_identity = pd.read_csv('/content/train_identity.csv')\n",
    "test_identity = pd.read_csv('/content/test_identity.csv')"
   ]
  },
  {
   "cell_type": "code",
   "execution_count": 0,
   "metadata": {
    "colab": {},
    "colab_type": "code",
    "id": "sxDtFnbZt_HW"
   },
   "outputs": [],
   "source": [
    "########################### Base check\n",
    "#################################################################################\n",
    "\n",
    "if LOCAL_TEST:\n",
    "    for df2 in [train_df, test_df, train_identity, test_identity]:\n",
    "        df = reduce_mem_usage(df2)\n",
    "\n",
    "        for col in list(df):\n",
    "            if not df[col].equals(df2[col]):\n",
    "                print('Bad transformation', col)"
   ]
  },
  {
   "cell_type": "code",
   "execution_count": 7,
   "metadata": {
    "colab": {
     "base_uri": "https://localhost:8080/",
     "height": 85
    },
    "colab_type": "code",
    "id": "JBlpnkx3t_HY",
    "outputId": "56c78d58-a3e6-4ca6-d399-d6886cbe7ee2"
   },
   "outputs": [
    {
     "name": "stdout",
     "output_type": "stream",
     "text": [
      "Mem. usage decreased to 111.83 Mb (70.8% reduction)\n",
      "Mem. usage decreased to 109.22 Mb (72.2% reduction)\n",
      "Mem. usage decreased to 25.86 Mb (42.7% reduction)\n",
      "Mem. usage decreased to 25.44 Mb (42.7% reduction)\n"
     ]
    }
   ],
   "source": [
    "########################### Base Minification\n",
    "#################################################################################\n",
    "\n",
    "train_df = reduce_mem_usage(train_df)\n",
    "test_df  = reduce_mem_usage(test_df)\n",
    "\n",
    "train_identity = reduce_mem_usage(train_identity)\n",
    "test_identity  = reduce_mem_usage(test_identity)"
   ]
  },
  {
   "cell_type": "code",
   "execution_count": 0,
   "metadata": {
    "colab": {},
    "colab_type": "code",
    "id": "ZJbwG4b1t_Ha"
   },
   "outputs": [],
   "source": [
    "base_columns = list(train_df) + list(train_identity)"
   ]
  },
  {
   "cell_type": "code",
   "execution_count": 0,
   "metadata": {
    "colab": {},
    "colab_type": "code",
    "id": "JA2bquzFt_Hc"
   },
   "outputs": [],
   "source": [
    "########################### Columns\n",
    "#################################################################################\n",
    "## Main Data\n",
    "# 'TransactionID',\n",
    "# 'isFraud',\n",
    "# 'TransactionDT',\n",
    "# 'TransactionAmt',\n",
    "# 'ProductCD',\n",
    "# 'card1' - 'card6',\n",
    "# 'addr1' - 'addr2',\n",
    "# 'dist1' - 'dist2',\n",
    "# 'P_emaildomain' - 'R_emaildomain',\n",
    "# 'C1' - 'C14'\n",
    "# 'D1' - 'D15'\n",
    "# 'M1' - 'M9'\n",
    "# 'V1' - 'V339'\n",
    "\n",
    "## Identity Data\n",
    "# 'TransactionID'\n",
    "# 'id_01' - 'id_38'\n",
    "# 'DeviceType',\n",
    "# 'DeviceInfo'"
   ]
  },
  {
   "cell_type": "markdown",
   "metadata": {
    "colab_type": "text",
    "id": "uX3HTkBht_Hf"
   },
   "source": [
    "### 2. Data Preprocessing"
   ]
  },
  {
   "cell_type": "markdown",
   "metadata": {
    "colab_type": "text",
    "id": "Lhgrq-b2t_Hf"
   },
   "source": [
    "**Dataset Columns**\n",
    "\n",
    "**Transaction Data**\n",
    "\n",
    "'TransactionID'\n",
    "\n",
    "'isFraud'\n",
    "\n",
    "'TransactionDT'\n",
    "\n",
    "'TransactionAmt'\n",
    "\n",
    "'ProductCD' **Categorical Features**\n",
    "\n",
    "'card1' - 'card6' **Categorical Features**\n",
    "\n",
    "'addr1' - 'addr2' **Categorical Features**\n",
    "\n",
    "'dist1' - 'dist2'\n",
    "\n",
    "'P_emaildomain' **Categorical Features**\n",
    "\n",
    "'R_emaildomain' **Categorical Features**\n",
    "\n",
    "'C1' - 'C14'\n",
    "\n",
    "'D1' - 'D15'\n",
    "\n",
    "'M1' - 'M9' **Categorical Features**\n",
    "\n",
    "'V1' - 'V339'\n",
    "\n",
    "\n",
    "\n",
    "\n",
    "**Identity Data**\n",
    "\n",
    "'TransactionID'\n",
    "\n",
    "'id_01' - 'id_38' **Categorical Features id_12 - id_38**\n",
    "\n",
    "'DeviceType' **Categorical Features**\n",
    "\n",
    "'DeviceInfo' **Categorical Features**"
   ]
  },
  {
   "cell_type": "markdown",
   "metadata": {
    "colab_type": "text",
    "id": "VNGPCS-Rt_Hh"
   },
   "source": [
    "#### 2.1 Product CD"
   ]
  },
  {
   "cell_type": "code",
   "execution_count": 10,
   "metadata": {
    "colab": {
     "base_uri": "https://localhost:8080/",
     "height": 428
    },
    "colab_type": "code",
    "id": "vOSnG7Lft_Hi",
    "outputId": "49299b99-8162-4f9c-c996-178c5c6ee80a"
   },
   "outputs": [
    {
     "data": {
      "text/plain": [
       "<matplotlib.legend.Legend at 0x7f751cd67128>"
      ]
     },
     "execution_count": 10,
     "metadata": {
      "tags": []
     },
     "output_type": "execute_result"
    },
    {
     "data": {
      "image/png": "[encoded data removed]",
      "text/plain": [
       "<Figure size 864x432 with 2 Axes>"
      ]
     },
     "metadata": {
      "tags": []
     },
     "output_type": "display_data"
    }
   ],
   "source": [
    "plt.figure(figsize=(12,6))\n",
    "\n",
    "total = len(train_df)\n",
    "\n",
    "plt.subplot(121)\n",
    "g = sns.countplot(x = 'ProductCD', data = train_df)\n",
    "g.set_title('ProductCD Distribution', fontsize = 15)\n",
    "g.set_xlabel(\"Product Code\", fontsize=15)\n",
    "g.set_ylabel(\"Count\", fontsize=15)\n",
    "for p in g.patches:\n",
    "    height = p.get_height()\n",
    "    g.text(p.get_x()+p.get_width()/2.,\n",
    "            height + 3,\n",
    "            '{:1.2f}%'.format(height/total*100),\n",
    "            ha=\"center\", fontsize=14) \n",
    "\n",
    "plt.subplot(122)\n",
    "g1 = sns.countplot(x='ProductCD', hue='isFraud', data=train_df)\n",
    "g1.set_title('ProductCD by Fraud', fontsize = 15)\n",
    "g1.set_xlabel(\"Product Code\", fontsize=15)\n",
    "g1.set_ylabel(\"Count\", fontsize=15)\n",
    "plt.legend(title='Fraud', loc='best', labels=['No', 'Yes'])"
   ]
  },
  {
   "cell_type": "code",
   "execution_count": 11,
   "metadata": {
    "colab": {
     "base_uri": "https://localhost:8080/",
     "height": 119
    },
    "colab_type": "code",
    "id": "apZEQDW_t_Hm",
    "outputId": "48ae07a9-f137-4a04-e137-3afa5e6db874"
   },
   "outputs": [
    {
     "data": {
      "text/plain": [
       "W    0.411915\n",
       "C    0.390252\n",
       "H    0.115005\n",
       "R    0.060529\n",
       "S    0.022300\n",
       "Name: ProductCD, dtype: float64"
      ]
     },
     "execution_count": 11,
     "metadata": {
      "tags": []
     },
     "output_type": "execute_result"
    }
   ],
   "source": [
    "train_df[train_df['isFraud'] == 1]['ProductCD'].value_counts(normalize = True)"
   ]
  },
  {
   "cell_type": "code",
   "execution_count": 12,
   "metadata": {
    "colab": {
     "base_uri": "https://localhost:8080/",
     "height": 331
    },
    "colab_type": "code",
    "id": "5XNC25Vnt_Hn",
    "outputId": "d17b886f-9436-4ffa-e1de-1084a6e45c54"
   },
   "outputs": [
    {
     "data": {
      "text/plain": [
       "(array([0, 1, 2, 3, 4]), <a list of 5 Text xticklabel objects>)"
      ]
     },
     "execution_count": 12,
     "metadata": {
      "tags": []
     },
     "output_type": "execute_result"
    },
    {
     "data": {
      "text/plain": [
       "<Figure size 864x864 with 0 Axes>"
      ]
     },
     "metadata": {
      "tags": []
     },
     "output_type": "display_data"
    },
    {
     "data": {
      "image/png": "[encoded data removed]",
      "text/plain": [
       "<Figure size 432x288 with 1 Axes>"
      ]
     },
     "metadata": {
      "tags": []
     },
     "output_type": "display_data"
    }
   ],
   "source": [
    "plt.figure(figsize = (12,12))\n",
    "temp = train_df.groupby('ProductCD')['isFraud'].value_counts(normalize = True).unstack()\n",
    "a = temp.plot.bar(stacked = True)\n",
    "a.set_title('Rate of Fraud by Product Code', fontsize = 15)\n",
    "plt.xticks(rotation = 'horizontal')"
   ]
  },
  {
   "cell_type": "code",
   "execution_count": 0,
   "metadata": {
    "colab": {},
    "colab_type": "code",
    "id": "_wkxKqmot_Ho"
   },
   "outputs": [],
   "source": []
  },
  {
   "cell_type": "markdown",
   "metadata": {
    "colab_type": "text",
    "id": "nLQog0LGt_Hp"
   },
   "source": [
    "These results susgest that with product code, we need to do 2 things:\n",
    "* Encode categorical levels using Frequency Encoding\n",
    "* Add target mean by categorical level. It is found here that product C has highest fraud rate, compared to others"
   ]
  },
  {
   "cell_type": "code",
   "execution_count": 0,
   "metadata": {
    "colab": {},
    "colab_type": "code",
    "id": "90X_2u7xt_Hq"
   },
   "outputs": [],
   "source": [
    "# ProductCD Frequency Encoding\n",
    "col = 'ProductCD'\n",
    "temp_df = pd.concat([train_df[[col]], test_df[[col]]])   # I don't want to use test data\n",
    "#temp_df = train_df[[col]]\n",
    "col_encoded = temp_df[col].value_counts().to_dict()\n",
    "train_df[col] = train_df[col].map(col_encoded)\n",
    "test_df[col]  = test_df[col].map(col_encoded)"
   ]
  },
  {
   "cell_type": "code",
   "execution_count": 14,
   "metadata": {
    "colab": {
     "base_uri": "https://localhost:8080/",
     "height": 244
    },
    "colab_type": "code",
    "id": "8ttGaDFvt_Hr",
    "outputId": "330691e3-e110-47b7-867d-11a46b7cb527"
   },
   "outputs": [
    {
     "name": "stdout",
     "output_type": "stream",
     "text": [
      "   ProductCD  ProductCD_target_mean\n",
      "0       5693               0.023874\n",
      "1      23543               0.017600\n",
      "2      25663               0.009693\n",
      "3      27914               0.080139\n",
      "4     175085               0.018743\n",
      "=============\n",
      "Int64Index([5693, 23543, 25663, 27914, 175085], dtype='int64')\n",
      "=============\n",
      "{5693: 0.023874488403819918, 23543: 0.01760031202769246, 25663: 0.009693382990663742, 27914: 0.08013868899646735, 175085: 0.01874320504457491}\n",
      "****************\n"
     ]
    }
   ],
   "source": [
    "## ProductCD Target mean\n",
    "for col in ['ProductCD']:\n",
    "    temp_dict = train_df.groupby([col])[TARGET].agg(['mean']).reset_index().rename(\n",
    "                                                        columns={'mean': col+'_target_mean'})\n",
    "    print(temp_dict)\n",
    "    print('=============')\n",
    "    \n",
    "    temp_dict.index = temp_dict[col].values\n",
    "    print(temp_dict.index)\n",
    "    print('=============')\n",
    "    \n",
    "    temp_dict = temp_dict[col+'_target_mean'].to_dict()\n",
    "    print(temp_dict)\n",
    "    print('****************')\n",
    "    \n",
    "    train_df[col+'_target_mean'] = train_df[col].map(temp_dict)\n",
    "    test_df[col+'_target_mean']  = test_df[col].map(temp_dict)"
   ]
  },
  {
   "cell_type": "code",
   "execution_count": 15,
   "metadata": {
    "colab": {
     "base_uri": "https://localhost:8080/",
     "height": 204
    },
    "colab_type": "code",
    "id": "9Sm5n6ZJt_Hu",
    "outputId": "321c534a-2546-4755-c581-ad7409a50df9"
   },
   "outputs": [
    {
     "data": {
      "text/html": [
       "<div>\n",
       "<style scoped>\n",
       "    .dataframe tbody tr th:only-of-type {\n",
       "        vertical-align: middle;\n",
       "    }\n",
       "\n",
       "    .dataframe tbody tr th {\n",
       "        vertical-align: top;\n",
       "    }\n",
       "\n",
       "    .dataframe thead th {\n",
       "        text-align: right;\n",
       "    }\n",
       "</style>\n",
       "<table border=\"1\" class=\"dataframe\">\n",
       "  <thead>\n",
       "    <tr style=\"text-align: right;\">\n",
       "      <th></th>\n",
       "      <th>ProductCD</th>\n",
       "      <th>ProductCD_target_mean</th>\n",
       "    </tr>\n",
       "  </thead>\n",
       "  <tbody>\n",
       "    <tr>\n",
       "      <th>0</th>\n",
       "      <td>175085</td>\n",
       "      <td>0.018743</td>\n",
       "    </tr>\n",
       "    <tr>\n",
       "      <th>1</th>\n",
       "      <td>175085</td>\n",
       "      <td>0.018743</td>\n",
       "    </tr>\n",
       "    <tr>\n",
       "      <th>2</th>\n",
       "      <td>175085</td>\n",
       "      <td>0.018743</td>\n",
       "    </tr>\n",
       "    <tr>\n",
       "      <th>3</th>\n",
       "      <td>175085</td>\n",
       "      <td>0.018743</td>\n",
       "    </tr>\n",
       "    <tr>\n",
       "      <th>4</th>\n",
       "      <td>23543</td>\n",
       "      <td>0.017600</td>\n",
       "    </tr>\n",
       "  </tbody>\n",
       "</table>\n",
       "</div>"
      ],
      "text/plain": [
       "   ProductCD  ProductCD_target_mean\n",
       "0     175085               0.018743\n",
       "1     175085               0.018743\n",
       "2     175085               0.018743\n",
       "3     175085               0.018743\n",
       "4      23543               0.017600"
      ]
     },
     "execution_count": 15,
     "metadata": {
      "tags": []
     },
     "output_type": "execute_result"
    }
   ],
   "source": [
    "train_df[['ProductCD', 'ProductCD_target_mean']].head()"
   ]
  },
  {
   "cell_type": "markdown",
   "metadata": {
    "colab_type": "text",
    "id": "wwcEa527t_Hv"
   },
   "source": [
    "### 2.2 Card1 - Card6"
   ]
  },
  {
   "cell_type": "markdown",
   "metadata": {
    "colab_type": "text",
    "id": "WKGf-bAmt_Hv"
   },
   "source": [
    "#### a. Card 1, 2, 3, 5\n",
    "\n",
    "The card 1,2,3, and 5 was represented as numerical values, temping us to plot the histogram. However, we need to remember that card columns were classified as categorical variables. Meaning it's likely that these numerical variables were coded for categorical variables."
   ]
  },
  {
   "cell_type": "code",
   "execution_count": 16,
   "metadata": {
    "colab": {
     "base_uri": "https://localhost:8080/",
     "height": 297
    },
    "colab_type": "code",
    "id": "xhI2_Krlt_Hv",
    "outputId": "db0e6303-390f-4cad-f455-679d61c91da8"
   },
   "outputs": [
    {
     "data": {
      "text/html": [
       "<div>\n",
       "<style scoped>\n",
       "    .dataframe tbody tr th:only-of-type {\n",
       "        vertical-align: middle;\n",
       "    }\n",
       "\n",
       "    .dataframe tbody tr th {\n",
       "        vertical-align: top;\n",
       "    }\n",
       "\n",
       "    .dataframe thead th {\n",
       "        text-align: right;\n",
       "    }\n",
       "</style>\n",
       "<table border=\"1\" class=\"dataframe\">\n",
       "  <thead>\n",
       "    <tr style=\"text-align: right;\">\n",
       "      <th></th>\n",
       "      <th>card1</th>\n",
       "      <th>card2</th>\n",
       "      <th>card3</th>\n",
       "      <th>card5</th>\n",
       "    </tr>\n",
       "  </thead>\n",
       "  <tbody>\n",
       "    <tr>\n",
       "      <th>count</th>\n",
       "      <td>127315.000000</td>\n",
       "      <td>125636.0</td>\n",
       "      <td>127312.0</td>\n",
       "      <td>126622.0</td>\n",
       "    </tr>\n",
       "    <tr>\n",
       "      <th>mean</th>\n",
       "      <td>9885.352629</td>\n",
       "      <td>NaN</td>\n",
       "      <td>NaN</td>\n",
       "      <td>NaN</td>\n",
       "    </tr>\n",
       "    <tr>\n",
       "      <th>std</th>\n",
       "      <td>4937.225735</td>\n",
       "      <td>NaN</td>\n",
       "      <td>0.0</td>\n",
       "      <td>0.0</td>\n",
       "    </tr>\n",
       "    <tr>\n",
       "      <th>min</th>\n",
       "      <td>1001.000000</td>\n",
       "      <td>100.0</td>\n",
       "      <td>100.0</td>\n",
       "      <td>100.0</td>\n",
       "    </tr>\n",
       "    <tr>\n",
       "      <th>25%</th>\n",
       "      <td>6019.000000</td>\n",
       "      <td>219.0</td>\n",
       "      <td>150.0</td>\n",
       "      <td>166.0</td>\n",
       "    </tr>\n",
       "    <tr>\n",
       "      <th>50%</th>\n",
       "      <td>9715.000000</td>\n",
       "      <td>390.0</td>\n",
       "      <td>150.0</td>\n",
       "      <td>226.0</td>\n",
       "    </tr>\n",
       "    <tr>\n",
       "      <th>75%</th>\n",
       "      <td>14290.000000</td>\n",
       "      <td>514.0</td>\n",
       "      <td>150.0</td>\n",
       "      <td>226.0</td>\n",
       "    </tr>\n",
       "    <tr>\n",
       "      <th>max</th>\n",
       "      <td>18396.000000</td>\n",
       "      <td>600.0</td>\n",
       "      <td>229.0</td>\n",
       "      <td>237.0</td>\n",
       "    </tr>\n",
       "  </tbody>\n",
       "</table>\n",
       "</div>"
      ],
      "text/plain": [
       "               card1     card2     card3     card5\n",
       "count  127315.000000  125636.0  127312.0  126622.0\n",
       "mean     9885.352629       NaN       NaN       NaN\n",
       "std      4937.225735       NaN       0.0       0.0\n",
       "min      1001.000000     100.0     100.0     100.0\n",
       "25%      6019.000000     219.0     150.0     166.0\n",
       "50%      9715.000000     390.0     150.0     226.0\n",
       "75%     14290.000000     514.0     150.0     226.0\n",
       "max     18396.000000     600.0     229.0     237.0"
      ]
     },
     "execution_count": 16,
     "metadata": {
      "tags": []
     },
     "output_type": "execute_result"
    }
   ],
   "source": [
    "train_df.describe().loc[:,'card1':'card5']"
   ]
  },
  {
   "cell_type": "code",
   "execution_count": 17,
   "metadata": {
    "colab": {
     "base_uri": "https://localhost:8080/",
     "height": 119
    },
    "colab_type": "code",
    "id": "oJk1WO-zt_Hw",
    "outputId": "15406169-6415-4e72-9bc0-278be99e6d78"
   },
   "outputs": [
    {
     "data": {
      "text/plain": [
       "card1    8490\n",
       "card2     499\n",
       "card3      80\n",
       "card4       4\n",
       "card5      90\n",
       "dtype: int64"
      ]
     },
     "execution_count": 17,
     "metadata": {
      "tags": []
     },
     "output_type": "execute_result"
    }
   ],
   "source": [
    "train_df.loc[:,'card1':'card5'].nunique()"
   ]
  },
  {
   "cell_type": "markdown",
   "metadata": {
    "colab_type": "text",
    "id": "J02g1baRt_Hy"
   },
   "source": [
    "Card 1 contains 13553 unique values, suggesting card 1 may have been ID of the card. Card 2,3 and 5 have less unique values, so perhaps they could be expiration date, or combinations that generate card identity? Since we don't know how these information was scrammbled, we might pickup patterns generated by encryption algorithm instead of data. We can calculate target mean grouped by 'card1' - 'card5' (except 'card4'"
   ]
  },
  {
   "cell_type": "code",
   "execution_count": 0,
   "metadata": {
    "colab": {},
    "colab_type": "code",
    "id": "VqWJ0Vmet_Hy"
   },
   "outputs": [],
   "source": [
    "#for col in ['card1', 'card2', 'card3', 'card5']:\n",
    "#    temp_dict = train_df.groupby([col])[TARGET].agg(['mean']).reset_index().rename(\n",
    "#                                                        columns={'mean': col+'_target_mean'})\n",
    "#    temp_dict.index = temp_dict[col].values\n",
    "#    temp_dict = temp_dict[col+'_target_mean'].to_dict()\n",
    "\n",
    "#    train_df[col+'_target_mean'] = train_df[col].map(temp_dict)\n",
    "#    test_df[col+'_target_mean']  = test_df[col].map(temp_dict)"
   ]
  },
  {
   "cell_type": "code",
   "execution_count": 0,
   "metadata": {
    "colab": {},
    "colab_type": "code",
    "id": "BAC7gqu7t_H0"
   },
   "outputs": [],
   "source": [
    "########################### Reset values for \"noise\" card1\n",
    "i_cols = ['card1']\n",
    "\n",
    "for col in i_cols: \n",
    "    valid_card = pd.concat([train_df[[col]], test_df[[col]]])\n",
    "    valid_card = valid_card[col].value_counts()\n",
    "    valid_card = valid_card[valid_card>2]\n",
    "    valid_card = list(valid_card.index)\n",
    "\n",
    "    train_df[col] = np.where(train_df[col].isin(test_df[col]), train_df[col], np.nan)\n",
    "    test_df[col]  = np.where(test_df[col].isin(train_df[col]), test_df[col], np.nan)\n",
    "\n",
    "    train_df[col] = np.where(train_df[col].isin(valid_card), train_df[col], np.nan)\n",
    "    test_df[col]  = np.where(test_df[col].isin(valid_card), test_df[col], np.nan)"
   ]
  },
  {
   "cell_type": "markdown",
   "metadata": {
    "colab_type": "text",
    "id": "a87tddb5t_H0"
   },
   "source": [
    "b. Card4"
   ]
  },
  {
   "cell_type": "code",
   "execution_count": 20,
   "metadata": {
    "colab": {
     "base_uri": "https://localhost:8080/",
     "height": 428
    },
    "colab_type": "code",
    "id": "0WVPC5Uht_H1",
    "outputId": "8358f8aa-8440-4a4b-ba2a-0193d04afb33"
   },
   "outputs": [
    {
     "data": {
      "text/plain": [
       "<matplotlib.legend.Legend at 0x7f751cdfadd8>"
      ]
     },
     "execution_count": 20,
     "metadata": {
      "tags": []
     },
     "output_type": "execute_result"
    },
    {
     "data": {
      "image/png": "[encoded data removed]",
      "text/plain": [
       "<Figure size 864x432 with 2 Axes>"
      ]
     },
     "metadata": {
      "tags": []
     },
     "output_type": "display_data"
    }
   ],
   "source": [
    "plt.figure(figsize=(12,6))\n",
    "\n",
    "total = len(train_df)\n",
    "\n",
    "plt.subplot(121)\n",
    "g = sns.countplot(x = 'card4', data = train_df)\n",
    "g.set_title('Card Network Distribution', fontsize = 15)\n",
    "g.set_xlabel(\"Card Issuers\", fontsize=15)\n",
    "g.set_ylabel(\"Count\", fontsize=15)\n",
    "for p in g.patches:\n",
    "    height = p.get_height()\n",
    "    g.text(p.get_x()+p.get_width()/2.,\n",
    "            height + 3,\n",
    "            '{:1.2f}%'.format(height/total*100),\n",
    "            ha=\"center\", fontsize=14) \n",
    "\n",
    "plt.subplot(122)\n",
    "g1 = sns.countplot(x='card4', hue='isFraud', data=train_df)\n",
    "g1.set_title('Card Network by Fraud', fontsize = 15)\n",
    "g1.set_xlabel(\"Card Issuers\", fontsize=15)\n",
    "g1.set_ylabel(\"Count\", fontsize=15)\n",
    "plt.legend(title='Fraud', loc='best', labels=['No', 'Yes'])"
   ]
  },
  {
   "cell_type": "code",
   "execution_count": 21,
   "metadata": {
    "colab": {
     "base_uri": "https://localhost:8080/",
     "height": 331
    },
    "colab_type": "code",
    "id": "6r3z_qcJt_H1",
    "outputId": "646e2774-e6fc-444c-a5e3-10d6f9ca577f"
   },
   "outputs": [
    {
     "data": {
      "text/plain": [
       "(array([0, 1, 2, 3]), <a list of 4 Text xticklabel objects>)"
      ]
     },
     "execution_count": 21,
     "metadata": {
      "tags": []
     },
     "output_type": "execute_result"
    },
    {
     "data": {
      "text/plain": [
       "<Figure size 864x864 with 0 Axes>"
      ]
     },
     "metadata": {
      "tags": []
     },
     "output_type": "display_data"
    },
    {
     "data": {
      "image/png": "[encoded data removed]",
      "text/plain": [
       "<Figure size 432x288 with 1 Axes>"
      ]
     },
     "metadata": {
      "tags": []
     },
     "output_type": "display_data"
    }
   ],
   "source": [
    "# visualization of table\n",
    "plt.figure(figsize=(12,12))\n",
    "b = train_df.groupby('card4')['isFraud'].value_counts(normalize = True).unstack().plot.bar(stacked = True)\n",
    "b.set_title('Rate of Fraud by Card Network', fontsize = 15)\n",
    "plt.xticks(rotation='horizontal')"
   ]
  },
  {
   "cell_type": "code",
   "execution_count": 0,
   "metadata": {
    "colab": {},
    "colab_type": "code",
    "id": "b9zp7eLFt_H2"
   },
   "outputs": [],
   "source": [
    "# Card4 Frequency Encoding\n",
    "col = 'card4'\n",
    "temp_df = pd.concat([train_df[[col]], test_df[[col]]])   # I don't want to use test data\n",
    "#temp_df = train_df[[col]]\n",
    "col_encoded = temp_df[col].value_counts().to_dict()\n",
    "train_df[col] = train_df[col].map(col_encoded)\n",
    "test_df[col]  = test_df[col].map(col_encoded)\n",
    "\n",
    "## Card4 Target mean\n",
    "#for col in ['card4']:\n",
    "#    temp_dict = train_df.groupby([col])[TARGET].agg(['mean']).reset_index().rename(\n",
    "#                                                        columns={'mean': col+'_target_mean'})\n",
    "#    temp_dict.index = temp_dict[col].values\n",
    "#    temp_dict = temp_dict[col+'_target_mean'].to_dict()\n",
    "\n",
    "#    train_df[col+'_target_mean'] = train_df[col].map(temp_dict)\n",
    "#    test_df[col+'_target_mean']  = test_df[col].map(temp_dict)"
   ]
  },
  {
   "cell_type": "markdown",
   "metadata": {
    "colab_type": "text",
    "id": "2RjnD_RFt_H3"
   },
   "source": [
    "c. Card6"
   ]
  },
  {
   "cell_type": "code",
   "execution_count": 23,
   "metadata": {
    "colab": {
     "base_uri": "https://localhost:8080/",
     "height": 428
    },
    "colab_type": "code",
    "id": "paynpGoCt_H3",
    "outputId": "8f3cc873-c924-4d9e-fb05-cbde92f19f10"
   },
   "outputs": [
    {
     "data": {
      "text/plain": [
       "<matplotlib.legend.Legend at 0x7f751714d860>"
      ]
     },
     "execution_count": 23,
     "metadata": {
      "tags": []
     },
     "output_type": "execute_result"
    },
    {
     "data": {
      "image/png": "[encoded data removed]",
      "text/plain": [
       "<Figure size 864x432 with 2 Axes>"
      ]
     },
     "metadata": {
      "tags": []
     },
     "output_type": "display_data"
    }
   ],
   "source": [
    "plt.figure(figsize=(12,6))\n",
    "\n",
    "total = len(train_df)\n",
    "\n",
    "plt.subplot(121)\n",
    "g = sns.countplot(x = 'card6', data = train_df)\n",
    "g.set_title('Card Type Distribution', fontsize = 15)\n",
    "g.set_xlabel(\"Card Type\", fontsize=15)\n",
    "g.set_ylabel(\"Count\", fontsize=15)\n",
    "for p in g.patches:\n",
    "    height = p.get_height()\n",
    "    g.text(p.get_x()+p.get_width()/2.,\n",
    "            height + 3,\n",
    "            '{:1.2f}%'.format(height/total*100),\n",
    "            ha=\"center\", fontsize=14) \n",
    "\n",
    "plt.subplot(122)\n",
    "g1 = sns.countplot(x='card6', hue='isFraud', data=train_df)\n",
    "g1.set_title('Card Type by Fraud', fontsize = 15)\n",
    "g1.set_xlabel(\"Card Type\", fontsize=15)\n",
    "g1.set_ylabel(\"Count\", fontsize=15)\n",
    "plt.legend(title='Fraud', loc='best', labels=['No', 'Yes'])"
   ]
  },
  {
   "cell_type": "code",
   "execution_count": 24,
   "metadata": {
    "colab": {
     "base_uri": "https://localhost:8080/",
     "height": 331
    },
    "colab_type": "code",
    "id": "Se-ocpWTt_H4",
    "outputId": "d267e965-52cb-4199-a752-21b17eacc329"
   },
   "outputs": [
    {
     "data": {
      "text/plain": [
       "(array([0, 1, 2, 3]), <a list of 4 Text xticklabel objects>)"
      ]
     },
     "execution_count": 24,
     "metadata": {
      "tags": []
     },
     "output_type": "execute_result"
    },
    {
     "data": {
      "text/plain": [
       "<Figure size 864x864 with 0 Axes>"
      ]
     },
     "metadata": {
      "tags": []
     },
     "output_type": "display_data"
    },
    {
     "data": {
      "image/png": "[encoded data removed]",
      "text/plain": [
       "<Figure size 432x288 with 1 Axes>"
      ]
     },
     "metadata": {
      "tags": []
     },
     "output_type": "display_data"
    }
   ],
   "source": [
    "# visualization of table\n",
    "plt.figure(figsize=(12,12))\n",
    "c = train_df.groupby('card6')['isFraud'].value_counts(normalize = True).unstack().plot.bar(stacked = True)\n",
    "c.set_title('Rate of Fraud by Card Type', fontsize = 15)\n",
    "plt.xticks(rotation='horizontal')"
   ]
  },
  {
   "cell_type": "markdown",
   "metadata": {
    "colab_type": "text",
    "id": "w8i05DsTt_H5"
   },
   "source": [
    "Credit card has much higher fraud rate as compared with other types of card"
   ]
  },
  {
   "cell_type": "code",
   "execution_count": 0,
   "metadata": {
    "colab": {},
    "colab_type": "code",
    "id": "UksHgX5vt_H5"
   },
   "outputs": [],
   "source": [
    "# Card6 Frequency Encoding\n",
    "col = 'card6'\n",
    "temp_df = pd.concat([train_df[[col]], test_df[[col]]])   # I don't want to use test data\n",
    "#temp_df = train_df[[col]]\n",
    "col_encoded = temp_df[col].value_counts().to_dict()\n",
    "train_df[col] = train_df[col].map(col_encoded)\n",
    "test_df[col]  = test_df[col].map(col_encoded)\n",
    "\n",
    "## Card6 Target mean\n",
    "#for col in ['card6']:\n",
    "#    temp_dict = train_df.groupby([col])[TARGET].agg(['mean']).reset_index().rename(\n",
    "#                                                        columns={'mean': col+'_target_mean'})\n",
    "#    temp_dict.index = temp_dict[col].values\n",
    "#    temp_dict = temp_dict[col+'_target_mean'].to_dict()\n",
    "\n",
    "#    train_df[col+'_target_mean'] = train_df[col].map(temp_dict)\n",
    "#    test_df[col+'_target_mean']  = test_df[col].map(temp_dict)"
   ]
  },
  {
   "cell_type": "markdown",
   "metadata": {
    "colab_type": "text",
    "id": "4xkEYTwTt_H6"
   },
   "source": [
    "### 2.3 Addr1 - Addr2"
   ]
  },
  {
   "cell_type": "code",
   "execution_count": 26,
   "metadata": {
    "colab": {
     "base_uri": "https://localhost:8080/",
     "height": 269
    },
    "colab_type": "code",
    "id": "RYmB6lsgt_H6",
    "outputId": "99c4764a-13d3-4592-9ce3-4e9c558882dc"
   },
   "outputs": [
    {
     "data": {
      "image/png": "[encoded data removed]",
      "text/plain": [
       "<Figure size 432x288 with 1 Axes>"
      ]
     },
     "metadata": {
      "tags": []
     },
     "output_type": "display_data"
    }
   ],
   "source": [
    "plot_hist(train_df, 'addr1', 'addr1')"
   ]
  },
  {
   "cell_type": "code",
   "execution_count": 27,
   "metadata": {
    "colab": {
     "base_uri": "https://localhost:8080/",
     "height": 269
    },
    "colab_type": "code",
    "id": "aM6YlGXvt_H7",
    "outputId": "be601052-b0bf-4706-ad52-1b8828881976"
   },
   "outputs": [
    {
     "data": {
      "image/png": "[encoded data removed]",
      "text/plain": [
       "<Figure size 432x288 with 1 Axes>"
      ]
     },
     "metadata": {
      "tags": []
     },
     "output_type": "display_data"
    }
   ],
   "source": [
    "plot_hist(train_df, 'addr2', 'addr2')"
   ]
  },
  {
   "cell_type": "code",
   "execution_count": 28,
   "metadata": {
    "colab": {
     "base_uri": "https://localhost:8080/",
     "height": 269
    },
    "colab_type": "code",
    "id": "vmadmZ1xt_H8",
    "outputId": "51b4c961-0d77-4df8-f361-c5ab3b700063"
   },
   "outputs": [
    {
     "data": {
      "image/png": "[encoded data removed]",
      "text/plain": [
       "<Figure size 432x288 with 1 Axes>"
      ]
     },
     "metadata": {
      "tags": []
     },
     "output_type": "display_data"
    }
   ],
   "source": [
    "plt.scatter(x='addr1', y ='isFraud', data = train_df)\n",
    "plt.show()"
   ]
  },
  {
   "cell_type": "code",
   "execution_count": 0,
   "metadata": {
    "colab": {},
    "colab_type": "code",
    "id": "3fxsOHJdt_H8"
   },
   "outputs": [],
   "source": [
    "## Addr1 - Addr2 Target mean\n",
    "#for col in ['addr1', 'addr2']:\n",
    "#    temp_dict = train_df.groupby([col])[TARGET].agg(['mean']).reset_index().rename(\n",
    "#                                                        columns={'mean': col+'_target_mean'})\n",
    "#    temp_dict.index = temp_dict[col].values\n",
    "#    temp_dict = temp_dict[col+'_target_mean'].to_dict()\n",
    "\n",
    "#    train_df[col+'_target_mean'] = train_df[col].map(temp_dict)\n",
    "#    test_df[col+'_target_mean']  = test_df[col].map(temp_dict)"
   ]
  },
  {
   "cell_type": "markdown",
   "metadata": {
    "colab_type": "text",
    "id": "nK8HCCUit_H9"
   },
   "source": [
    "### 2.4 Email domain"
   ]
  },
  {
   "cell_type": "code",
   "execution_count": 0,
   "metadata": {
    "colab": {},
    "colab_type": "code",
    "id": "7HH0cdKHt_H9"
   },
   "outputs": [],
   "source": [
    "#train_df[\"P_parent_emaildomain\"] = train_df[\"P_emaildomain\"].str.split('.', expand = True)[[0]]\n",
    "#train_df[\"R_parent_emaildomain\"] = train_df[\"R_emaildomain\"].str.split('.', expand = True)[[0]]\n",
    "\n",
    "#test_df[\"P_parent_emaildomain\"] = test_df[\"P_emaildomain\"].str.split('.', expand = True)[[0]]\n",
    "#test_df[\"R_parent_emaildomain\"] = test_df[\"R_emaildomain\"].str.split('.', expand = True)[[0]]"
   ]
  },
  {
   "cell_type": "code",
   "execution_count": 0,
   "metadata": {
    "colab": {},
    "colab_type": "code",
    "id": "EYuh6VBZt_H_"
   },
   "outputs": [],
   "source": [
    "# P-emaildomain & R-emaildomain Frequency Encoding\n",
    "#for col in ['P_parent_emaildomain', 'R_parent_emaildomain']:\n",
    "#    temp_df = pd.concat([train_df[[col]], test_df[[col]]])   # I don't want to use test data\n",
    "    #temp_df = train_df[[col]]\n",
    "#    col_encoded = temp_df[col].value_counts().to_dict()\n",
    "#    train_df[col] = train_df[col].map(col_encoded)\n",
    "#    test_df[col]  = test_df[col].map(col_encoded)\n",
    "\n",
    "## P-emaildomain & R-emaildomain Target mean\n",
    "#for col in ['P_parent_emaildomain', 'R_parent_emaildomain']:\n",
    "#    temp_dict = train_df.groupby([col])[TARGET].agg(['mean']).reset_index().rename(\n",
    "#                                                        columns={'mean': col+'_target_mean'})\n",
    "#    temp_dict.index = temp_dict[col].values\n",
    "#    temp_dict = temp_dict[col+'_target_mean'].to_dict()\n",
    "\n",
    "#    train_df[col+'_target_mean'] = train_df[col].map(temp_dict)\n",
    "#    test_df[col+'_target_mean']  = test_df[col].map(temp_dict)"
   ]
  },
  {
   "cell_type": "markdown",
   "metadata": {
    "colab_type": "text",
    "id": "vf9WJhI1t_IA"
   },
   "source": [
    "### 2.5 'M1' - 'M9'"
   ]
  },
  {
   "cell_type": "code",
   "execution_count": 32,
   "metadata": {
    "colab": {
     "base_uri": "https://localhost:8080/",
     "height": 153
    },
    "colab_type": "code",
    "id": "rROHOAUKt_IA",
    "outputId": "9d63ed3b-a89d-48d1-a400-a0b86f409d34"
   },
   "outputs": [
    {
     "data": {
      "text/plain": [
       "M4  isFraud\n",
       "M0  0          0.963823\n",
       "    1          0.036177\n",
       "M1  0          0.978788\n",
       "    1          0.021212\n",
       "M2  0          0.921042\n",
       "    1          0.078958\n",
       "Name: isFraud, dtype: float64"
      ]
     },
     "execution_count": 32,
     "metadata": {
      "tags": []
     },
     "output_type": "execute_result"
    }
   ],
   "source": [
    "#temp = train_df[train_df['isFraud']==True].groupby('M4')['isFraud'].value_counts(normalize=True)\n",
    "temp = train_df.groupby('M4')['isFraud'].value_counts(normalize = True)\n",
    "temp"
   ]
  },
  {
   "cell_type": "code",
   "execution_count": 33,
   "metadata": {
    "colab": {
     "base_uri": "https://localhost:8080/",
     "height": 119
    },
    "colab_type": "code",
    "id": "8JJjleYpt_IB",
    "outputId": "1aa0c85e-e5c0-4c4c-bc14-e4583f70b4e9"
   },
   "outputs": [
    {
     "data": {
      "text/plain": [
       "0     M2\n",
       "1     M0\n",
       "2     M0\n",
       "3     M0\n",
       "4    NaN\n",
       "Name: M4, dtype: object"
      ]
     },
     "execution_count": 33,
     "metadata": {
      "tags": []
     },
     "output_type": "execute_result"
    }
   ],
   "source": [
    "train_df['M4'].head()"
   ]
  },
  {
   "cell_type": "code",
   "execution_count": 0,
   "metadata": {
    "colab": {},
    "colab_type": "code",
    "id": "eLJlwZgat_IC"
   },
   "outputs": [],
   "source": [
    "# 'M4' Target mean\n",
    "for col in ['M4']:\n",
    "    temp_dict = train_df.groupby([col])[TARGET].agg(['mean']).reset_index().rename(\n",
    "                                                        columns={'mean': col+'_target_mean'})\n",
    "    temp_dict.index = temp_dict[col].values\n",
    "    temp_dict = temp_dict[col+'_target_mean'].to_dict()\n",
    "\n",
    "    train_df[col+'_target_mean'] = train_df[col].map(temp_dict)\n",
    "    test_df[col+'_target_mean']  = test_df[col].map(temp_dict)"
   ]
  },
  {
   "cell_type": "code",
   "execution_count": 35,
   "metadata": {
    "colab": {
     "base_uri": "https://localhost:8080/",
     "height": 51
    },
    "colab_type": "code",
    "id": "c-IXzhn9t_IC",
    "outputId": "cb838191-6cf6-4ef9-ded9-704fc8d821df"
   },
   "outputs": [
    {
     "name": "stdout",
     "output_type": "stream",
     "text": [
      "Encoding M4\n",
      "{'M0': 78393, 'M2': 24709, 'M1': 21316}\n"
     ]
    }
   ],
   "source": [
    "for col in ['M1','M2','M3','M5','M6','M7','M8','M9']:\n",
    "    train_df[col] = train_df[col].map({'T':1, 'F':0})\n",
    "    test_df[col]  = test_df[col].map({'T':1, 'F':0})\n",
    "    \n",
    "for col in ['M4']:\n",
    "    print('Encoding', col)\n",
    "    temp_df = pd.concat([train_df[[col]], test_df[[col]]])\n",
    "    col_encoded = temp_df[col].value_counts().to_dict()   \n",
    "    train_df[col] = train_df[col].map(col_encoded)\n",
    "    test_df[col]  = test_df[col].map(col_encoded)\n",
    "    print(col_encoded)"
   ]
  },
  {
   "cell_type": "code",
   "execution_count": 0,
   "metadata": {
    "colab": {},
    "colab_type": "code",
    "id": "Nsy5CGhUt_ID"
   },
   "outputs": [],
   "source": [
    "# let's combine the data and work with the whole dataset\n",
    "\n",
    "#train = pd.merge(train_df, train_identity, on='TransactionID', how='left')\n",
    "#test = pd.merge(test_df, test_identity, on='TransactionID', how='left')\n",
    "#del train_identity, train_df, test_identity, test_df\n"
   ]
  },
  {
   "cell_type": "code",
   "execution_count": 0,
   "metadata": {
    "colab": {},
    "colab_type": "code",
    "id": "4e0Bm9Tjt_IE"
   },
   "outputs": [],
   "source": [
    "## Reduce Memory Usage\n",
    "\n",
    "#train = reduce_mem_usage(train)\n",
    "#test = reduce_mem_usage(test)"
   ]
  },
  {
   "cell_type": "markdown",
   "metadata": {
    "colab_type": "text",
    "id": "nxgxLDTPt_IF"
   },
   "source": [
    "### 2.6 'id_12' - 'id_38'"
   ]
  },
  {
   "cell_type": "code",
   "execution_count": 0,
   "metadata": {
    "colab": {},
    "colab_type": "code",
    "id": "10l1KIlwt_IF"
   },
   "outputs": [],
   "source": [
    "#train['id_23'].value_counts()"
   ]
  },
  {
   "cell_type": "code",
   "execution_count": 0,
   "metadata": {
    "colab": {},
    "colab_type": "code",
    "id": "-EIX941Zt_IG"
   },
   "outputs": [],
   "source": [
    "# Calculate Target Mean grouped by 'id_23'\n",
    "## 'id_23' Target mean\n",
    "#for col in ['id_23']:\n",
    "#    temp_dict = train.groupby([col])[TARGET].agg(['mean']).reset_index().rename(\n",
    "#                                                        columns={'mean': col+'_target_mean'})\n",
    "#    temp_dict.index = temp_dict[col].values\n",
    "#    temp_dict = temp_dict[col+'_target_mean'].to_dict()\n",
    "\n",
    "#    train[col] = train[col].map(temp_dict)\n",
    "#    test[col]  = test[col].map(temp_dict)"
   ]
  },
  {
   "cell_type": "code",
   "execution_count": 0,
   "metadata": {
    "colab": {},
    "colab_type": "code",
    "id": "MOb45Vk3t_IG"
   },
   "outputs": [],
   "source": [
    "########################### Identity columns\n",
    "#################################################################################\n",
    "\n",
    "def minify_identity_df(df):\n",
    "\n",
    "    df['id_12'] = df['id_12'].map({'Found':1, 'NotFound':0})\n",
    "    df['id_15'] = df['id_15'].map({'New':2, 'Found':1, 'Unknown':0})\n",
    "    df['id_16'] = df['id_16'].map({'Found':1, 'NotFound':0})\n",
    "\n",
    "    df['id_23'] = df['id_23'].map({'TRANSPARENT':4, 'IP_PROXY':3, 'IP_PROXY:ANONYMOUS':2, 'IP_PROXY:HIDDEN':1})\n",
    "\n",
    "    df['id_27'] = df['id_27'].map({'Found':1, 'NotFound':0})\n",
    "    df['id_28'] = df['id_28'].map({'New':2, 'Found':1})\n",
    "\n",
    "    df['id_29'] = df['id_29'].map({'Found':1, 'NotFound':0})\n",
    "\n",
    "    df['id_35'] = df['id_35'].map({'T':1, 'F':0})\n",
    "    df['id_36'] = df['id_36'].map({'T':1, 'F':0})\n",
    "    df['id_37'] = df['id_37'].map({'T':1, 'F':0})\n",
    "    df['id_38'] = df['id_38'].map({'T':1, 'F':0})\n",
    "\n",
    "    df['id_34'] = df['id_34'].fillna(':0')\n",
    "    df['id_34'] = df['id_34'].apply(lambda x: x.split(':')[1]).astype(np.int8)\n",
    "    df['id_34'] = np.where(df['id_34']==0, np.nan, df['id_34'])\n",
    "    \n",
    "    df['id_33'] = df['id_33'].fillna('0x0')\n",
    "    df['id_33_0'] = df['id_33'].apply(lambda x: x.split('x')[0]).astype(int)\n",
    "    df['id_33_1'] = df['id_33'].apply(lambda x: x.split('x')[1]).astype(int)\n",
    "    df['id_33'] = np.where(df['id_33']=='0x0', np.nan, df['id_33'])\n",
    "\n",
    "    df['DeviceType'].map({'desktop':1, 'mobile':0})\n",
    "    return df\n",
    "\n",
    "train_identity = minify_identity_df(train_identity)\n",
    "test_identity = minify_identity_df(test_identity)\n",
    "\n",
    "for col in ['id_33']:\n",
    "    train_identity[col] = train_identity[col].fillna('unseen_before_label')\n",
    "    test_identity[col]  = test_identity[col].fillna('unseen_before_label')\n",
    "    \n",
    "    le = LabelEncoder()\n",
    "    le.fit(list(train_identity[col])+list(test_identity[col]))\n",
    "    train_identity[col] = le.transform(train_identity[col])\n",
    "    test_identity[col]  = le.transform(test_identity[col])"
   ]
  },
  {
   "cell_type": "markdown",
   "metadata": {
    "colab_type": "text",
    "id": "e-o5K8OJt_IH"
   },
   "source": [
    "### 3. Feature Engineering"
   ]
  },
  {
   "cell_type": "markdown",
   "metadata": {
    "colab_type": "text",
    "id": "_Y8qGfLVt_IH"
   },
   "source": [
    "#### 3.1 TransactionDT"
   ]
  },
  {
   "cell_type": "code",
   "execution_count": 0,
   "metadata": {
    "colab": {},
    "colab_type": "code",
    "id": "hd0i8ap6t_IH"
   },
   "outputs": [],
   "source": [
    "START_DATE = datetime.datetime.strptime('2018-01-01', '%Y-%m-%d')\n",
    "\n",
    "for df in [train_df, test_df]:\n",
    "    # Temporary\n",
    "    df['DT'] = df['TransactionDT'].apply(lambda x: START_DATE + (datetime.timedelta(seconds = x)))\n",
    "    df['DT_M'] = df['DT'].dt.month\n",
    "    df['DT_W'] = df['DT'].dt.weekofyear\n",
    "    df['DT_D'] = df['DT'].dt.dayofyear\n",
    "    \n",
    "    df['DT_hour'] = df['DT'].dt.hour\n",
    "    df['DT_day_week'] = df['DT'].dt.dayofweek\n",
    "    df['DT_day'] = df['DT'].dt.day\n",
    "    \n",
    "    # D9 column\n",
    "    df['D9'] = np.where(df['D9'].isna(),0,1)\n",
    "\n",
    "#del train_df['DT']\n",
    "#del test_df['DT']"
   ]
  },
  {
   "cell_type": "markdown",
   "metadata": {
    "colab_type": "text",
    "id": "mw109x1vt_II"
   },
   "source": [
    "#### 3.2 Transaction Amount"
   ]
  },
  {
   "cell_type": "code",
   "execution_count": 0,
   "metadata": {
    "colab": {},
    "colab_type": "code",
    "id": "g1tJHsm4t_II"
   },
   "outputs": [],
   "source": [
    "train_df['TransactionAmt_to_mean_ProductCD'] = train_df['TransactionAmt'] / train_df.groupby(['ProductCD'])['TransactionAmt'].transform('mean')\n",
    "train_df['TransactionAmt_to_mean_Hour'] = train_df['TransactionAmt'] / train_df.groupby(['DT_hour'])['TransactionAmt'].transform('mean')\n",
    "train_df['TransactionAmt_to_std_ProductCD'] = train_df['TransactionAmt'] / train_df.groupby(['ProductCD'])['TransactionAmt'].transform('std')\n",
    "train_df['TransactionAmt_to_std_Hour'] = train_df['TransactionAmt'] / train_df.groupby(['DT_hour'])['TransactionAmt'].transform('std')\n",
    "\n",
    "test_df['TransactionAmt_to_mean_ProductCD'] = test_df['TransactionAmt'] / train_df.groupby(['ProductCD'])['TransactionAmt'].transform('mean')\n",
    "test_df['TransactionAmt_to_mean_Hour'] = test_df['TransactionAmt'] / train_df.groupby(['DT_hour'])['TransactionAmt'].transform('mean')\n",
    "test_df['TransactionAmt_to_std_ProductCD'] = test_df['TransactionAmt'] / train_df.groupby(['ProductCD'])['TransactionAmt'].transform('std')\n",
    "test_df['TransactionAmt_to_std_Hour'] = test_df['TransactionAmt'] / train_df.groupby(['DT_hour'])['TransactionAmt'].transform('std')"
   ]
  },
  {
   "cell_type": "code",
   "execution_count": 0,
   "metadata": {
    "colab": {},
    "colab_type": "code",
    "id": "9ld-c4jQt_IJ"
   },
   "outputs": [],
   "source": [
    "# Let's add some kind of client uID based on cardID ad addr columns\n",
    "# The value will be very specific for each client so we need to remove it\n",
    "# from final feature. But we can use it for aggregations.\n",
    "train_df['uid'] = train_df['card1'].astype(str)+'_'+train_df['card2'].astype(str)\n",
    "test_df['uid'] = test_df['card1'].astype(str)+'_'+test_df['card2'].astype(str)\n",
    "\n",
    "train_df['uid2'] = train_df['uid'].astype(str)+'_'+train_df['card3'].astype(str)+'_'+train_df['card4'].astype(str)\n",
    "test_df['uid2'] = test_df['uid'].astype(str)+'_'+test_df['card3'].astype(str)+'_'+test_df['card4'].astype(str)\n",
    "\n",
    "train_df['uid3'] = train_df['uid2'].astype(str)+'_'+train_df['addr1'].astype(str)+'_'+train_df['addr2'].astype(str)\n",
    "test_df['uid3'] = test_df['uid2'].astype(str)+'_'+test_df['addr1'].astype(str)+'_'+test_df['addr2'].astype(str)\n",
    "\n",
    "# Check if the Transaction Amount is common or not (we can use freq encoding here)\n",
    "# In our dialog with a model we are telling to trust or not to these values   \n",
    "train_df['TransactionAmt_check'] = np.where(train_df['TransactionAmt'].isin(test_df['TransactionAmt']), 1, 0)\n",
    "test_df['TransactionAmt_check']  = np.where(test_df['TransactionAmt'].isin(train_df['TransactionAmt']), 1, 0)\n",
    "\n",
    "#\n",
    "i_cols = ['card1','card2','card3','card5','uid','uid2','uid3']\n",
    "\n",
    "for col in i_cols:\n",
    "    for agg_type in ['mean','std']:\n",
    "        new_col_name = col+'_TransactionAmt_'+agg_type\n",
    "        temp_df = pd.concat([train_df[[col, 'TransactionAmt']], test_df[[col,'TransactionAmt']]])\n",
    "        #temp_df['TransactionAmt'] = temp_df['TransactionAmt'].astype(int)\n",
    "        temp_df = temp_df.groupby([col])['TransactionAmt'].agg([agg_type]).reset_index().rename(\n",
    "                                                columns={agg_type: new_col_name})\n",
    "        \n",
    "        temp_df.index = list(temp_df[col])\n",
    "        temp_df = temp_df[new_col_name].to_dict()   \n",
    "    \n",
    "        train_df[new_col_name] = train_df[col].map(temp_df)\n",
    "        test_df[new_col_name]  = test_df[col].map(temp_df)"
   ]
  },
  {
   "cell_type": "code",
   "execution_count": 0,
   "metadata": {
    "colab": {},
    "colab_type": "code",
    "id": "xG6_fF4bt_IK"
   },
   "outputs": [],
   "source": [
    "train_df['TransactionAmt'] = np.log1p(train_df['TransactionAmt'])\n",
    "test_df['TransactionAmt'] = np.log1p(test_df['TransactionAmt'])      "
   ]
  },
  {
   "cell_type": "code",
   "execution_count": 0,
   "metadata": {
    "colab": {},
    "colab_type": "code",
    "id": "Tw9N0FQEt_IL"
   },
   "outputs": [],
   "source": [
    "# 'P_emaildomain' - 'R_emaildomain'\n",
    "p = 'P_emaildomain'\n",
    "r = 'R_emaildomain'\n",
    "uknown = 'email_not_provided'\n",
    "\n",
    "for df in [train_df, test_df]:\n",
    "    df[p] = df[p].fillna(uknown)\n",
    "    df[r] = df[r].fillna(uknown)\n",
    "    \n",
    "    # Check if P_emaildomain matches R_emaildomain\n",
    "    df['email_check'] = np.where((df[p]==df[r])&(df[p]!=uknown),1,0)\n",
    "\n",
    "    df[p+'_prefix'] = df[p].apply(lambda x: x.split('.')[0])\n",
    "    df[r+'_prefix'] = df[r].apply(lambda x: x.split('.')[0])\n",
    "\n",
    "## Local test doesn't show any boost here, \n",
    "## but I think it's a good option for model stability \n",
    "\n",
    "## Also, we will do frequency encoding later"
   ]
  },
  {
   "cell_type": "code",
   "execution_count": 0,
   "metadata": {
    "colab": {},
    "colab_type": "code",
    "id": "23HPgy4Tt_IM"
   },
   "outputs": [],
   "source": []
  },
  {
   "cell_type": "code",
   "execution_count": 0,
   "metadata": {
    "colab": {},
    "colab_type": "code",
    "id": "5IZOohGOt_IN"
   },
   "outputs": [],
   "source": [
    "########################### Device info\n",
    "for df in [train_identity, test_identity]:\n",
    "    ########################### Device info\n",
    "    df['DeviceInfo'] = df['DeviceInfo'].fillna('unknown_device').str.lower()\n",
    "    df['DeviceInfo_device'] = df['DeviceInfo'].apply(lambda x: ''.join([i for i in x if i.isalpha()]))\n",
    "    df['DeviceInfo_version'] = df['DeviceInfo'].apply(lambda x: ''.join([i for i in x if i.isnumeric()]))\n",
    "    \n",
    "    ########################### Device info 2\n",
    "    df['id_30'] = df['id_30'].fillna('unknown_device').str.lower()\n",
    "    df['id_30_device'] = df['id_30'].apply(lambda x: ''.join([i for i in x if i.isalpha()]))\n",
    "    df['id_30_version'] = df['id_30'].apply(lambda x: ''.join([i for i in x if i.isnumeric()]))\n",
    "    \n",
    "    ########################### Browser\n",
    "    df['id_31'] = df['id_31'].fillna('unknown_device').str.lower()\n",
    "    df['id_31_device'] = df['id_31'].apply(lambda x: ''.join([i for i in x if i.isalpha()]))"
   ]
  },
  {
   "cell_type": "code",
   "execution_count": 0,
   "metadata": {
    "colab": {},
    "colab_type": "code",
    "id": "tvOw7xTPt_IN"
   },
   "outputs": [],
   "source": [
    "########################### Merge Identity columns\n",
    "temp_df = train_df[['TransactionID']]\n",
    "temp_df = temp_df.merge(train_identity, on=['TransactionID'], how='left')\n",
    "del temp_df['TransactionID']\n",
    "train_df = pd.concat([train_df,temp_df], axis=1)\n",
    "    \n",
    "temp_df = test_df[['TransactionID']]\n",
    "temp_df = temp_df.merge(test_identity, on=['TransactionID'], how='left')\n",
    "del temp_df['TransactionID']\n",
    "test_df = pd.concat([test_df,temp_df], axis=1)"
   ]
  },
  {
   "cell_type": "markdown",
   "metadata": {
    "colab_type": "text",
    "id": "Uv2-xCGlt_IO"
   },
   "source": [
    "#### 3.3 Frequency Encoding\n"
   ]
  },
  {
   "cell_type": "code",
   "execution_count": 0,
   "metadata": {
    "colab": {},
    "colab_type": "code",
    "id": "BAtzCZivt_IO"
   },
   "outputs": [],
   "source": [
    "########################### Freq encoding\n",
    "i_cols = ['card1','card2','card3','card5',\n",
    "          'C1','C2','C3','C4','C5','C6','C7','C8','C9','C10','C11','C12','C13','C14',\n",
    "          'D1','D2','D3','D4','D5','D6','D7','D8',\n",
    "          'addr1','addr2',\n",
    "          'dist1','dist2',\n",
    "          'P_emaildomain', 'R_emaildomain',\n",
    "          'DeviceInfo','DeviceInfo_device','DeviceInfo_version',\n",
    "          'id_30','id_30_device','id_30_version',\n",
    "          'id_31_device',\n",
    "          'id_33',\n",
    "          'uid','uid2','uid3',\n",
    "         ]\n",
    "\n",
    "for col in i_cols:\n",
    "    temp_df = pd.concat([train_df[[col]], test_df[[col]]])\n",
    "    fq_encode = temp_df[col].value_counts(dropna=False).to_dict()   \n",
    "    train_df[col+'_fq_enc'] = train_df[col].map(fq_encode)\n",
    "    test_df[col+'_fq_enc']  = test_df[col].map(fq_encode)\n",
    "\n",
    "\n",
    "for col in ['DT_M','DT_W','DT_D']:\n",
    "    temp_df = pd.concat([train_df[[col]], test_df[[col]]])\n",
    "    fq_encode = temp_df[col].value_counts().to_dict()\n",
    "            \n",
    "    train_df[col+'_total'] = train_df[col].map(fq_encode)\n",
    "    test_df[col+'_total']  = test_df[col].map(fq_encode)\n",
    "        \n",
    "\n",
    "periods = ['DT_M','DT_W','DT_D']\n",
    "i_cols = ['uid']\n",
    "for period in periods:\n",
    "    for col in i_cols:\n",
    "        new_column = col + '_' + period\n",
    "            \n",
    "        temp_df = pd.concat([train_df[[col,period]], test_df[[col,period]]])\n",
    "        temp_df[new_column] = temp_df[col].astype(str) + '_' + (temp_df[period]).astype(str)\n",
    "        fq_encode = temp_df[new_column].value_counts().to_dict()\n",
    "            \n",
    "        train_df[new_column] = (train_df[col].astype(str) + '_' + train_df[period].astype(str)).map(fq_encode)\n",
    "        test_df[new_column]  = (test_df[col].astype(str) + '_' + test_df[period].astype(str)).map(fq_encode)\n",
    "        \n",
    "        train_df[new_column] /= train_df[period+'_total']\n",
    "        test_df[new_column]  /= test_df[period+'_total']"
   ]
  },
  {
   "cell_type": "code",
   "execution_count": 0,
   "metadata": {
    "colab": {},
    "colab_type": "code",
    "id": "bX4WPobHt_IP"
   },
   "outputs": [],
   "source": [
    "########################### M columns (except M4)\n",
    "# All these columns are binary encoded 1/0\n",
    "# We can have some features from it\n",
    "i_cols = ['M1','M2','M3','M5','M6','M7','M8','M9']\n",
    "\n",
    "for df in [train_df, test_df]:\n",
    "    df['M_sum'] = df[i_cols].sum(axis=1).astype(np.int8)\n",
    "    df['M_na'] = df[i_cols].isna().sum(axis=1).astype(np.int8)"
   ]
  },
  {
   "cell_type": "code",
   "execution_count": 49,
   "metadata": {
    "colab": {
     "base_uri": "https://localhost:8080/",
     "height": 289
    },
    "colab_type": "code",
    "id": "mqjqlpT0t_IR",
    "outputId": "37259ba6-06e9-471a-a8ea-47e1cd839bdb"
   },
   "outputs": [
    {
     "name": "stdout",
     "output_type": "stream",
     "text": [
      "P_emaildomain\n",
      "R_emaildomain\n",
      "uid\n",
      "uid2\n",
      "uid3\n",
      "P_emaildomain_prefix\n",
      "R_emaildomain_prefix\n",
      "id_30\n",
      "id_31\n",
      "DeviceType\n",
      "DeviceInfo\n",
      "DeviceInfo_device\n",
      "DeviceInfo_version\n",
      "id_30_device\n",
      "id_30_version\n",
      "id_31_device\n"
     ]
    }
   ],
   "source": [
    "########################### Encode Str columns\n",
    "# For all such columns (probably not)\n",
    "# we already did frequency encoding (numeric feature)\n",
    "# so we will use astype('category') here\n",
    "for col in list(train_df):\n",
    "    if train_df[col].dtype=='O':\n",
    "        print(col)\n",
    "        train_df[col] = train_df[col].fillna('unseen_before_label')\n",
    "        test_df[col]  = test_df[col].fillna('unseen_before_label')\n",
    "        \n",
    "        train_df[col] = train_df[col].astype(str)\n",
    "        test_df[col] = test_df[col].astype(str)\n",
    "        \n",
    "        le = LabelEncoder()\n",
    "        le.fit(list(train_df[col])+list(test_df[col]))\n",
    "        train_df[col] = le.transform(train_df[col])\n",
    "        test_df[col]  = le.transform(test_df[col])\n",
    "        \n",
    "        train_df[col] = train_df[col].astype('category')\n",
    "        test_df[col] = test_df[col].astype('category')"
   ]
  },
  {
   "cell_type": "markdown",
   "metadata": {
    "colab_type": "text",
    "id": "qIfRQV8Zt_IS"
   },
   "source": [
    "### 7. Model Running"
   ]
  },
  {
   "cell_type": "code",
   "execution_count": 50,
   "metadata": {
    "colab": {
     "base_uri": "https://localhost:8080/",
     "height": 68
    },
    "colab_type": "code",
    "id": "8GvNg45rt_IS",
    "outputId": "2e12a099-368b-415a-c2cb-22dd6b6fe46d"
   },
   "outputs": [
    {
     "name": "stdout",
     "output_type": "stream",
     "text": [
      "Mem. usage decreased to 148.92 Mb (28.7% reduction)\n",
      "Mem. usage decreased to 147.09 Mb (29.5% reduction)\n"
     ]
    },
    {
     "data": {
      "text/plain": [
       "0"
      ]
     },
     "execution_count": 50,
     "metadata": {
      "tags": []
     },
     "output_type": "execute_result"
    }
   ],
   "source": [
    "train_df = reduce_mem_usage(train_df)\n",
    "test_df = reduce_mem_usage(test_df)\n",
    "gc.collect()"
   ]
  },
  {
   "cell_type": "code",
   "execution_count": 0,
   "metadata": {
    "colab": {},
    "colab_type": "code",
    "id": "3bV0jq84t_IS"
   },
   "outputs": [],
   "source": [
    "for col in list(train_df):\n",
    "    if train_df[col].dtype == 'O':\n",
    "        print(col)"
   ]
  },
  {
   "cell_type": "code",
   "execution_count": 0,
   "metadata": {
    "colab": {},
    "colab_type": "code",
    "id": "3sgcIkbat_IT"
   },
   "outputs": [],
   "source": [
    "## Encode Str columns\n",
    "for col in list(train_df):\n",
    "    if train_df[col].dtype=='O':\n",
    "        print(col)\n",
    "        train_df[col] = train_df[col].fillna('unseen_before_label')\n",
    "        test_df[col]  = test_df[col].fillna('unseen_before_label')\n",
    "        \n",
    "        train_df[col] = train_df[col].astype(str)\n",
    "        test_df[col] = test_df[col].astype(str)\n",
    "        \n",
    "        le = LabelEncoder()\n",
    "        le.fit(list(train_df[col])+list(test_df[col]))\n",
    "        train_df[col] = le.transform(train_df[col])\n",
    "        test_df[col]  = le.transform(test_df[col])\n",
    "        print(train_df[col].head())\n",
    "        \n",
    "        train_df[col] = train_df[col].astype('category')\n",
    "        test_df[col] = test_df[col].astype('category')\n",
    "        print(train_df[col].head())"
   ]
  },
  {
   "cell_type": "code",
   "execution_count": 0,
   "metadata": {
    "colab": {},
    "colab_type": "code",
    "id": "-8k44guOt_IU"
   },
   "outputs": [],
   "source": [
    "########################### Model Features \n",
    "## We can use set().difference() but the order matters\n",
    "## Matters only for deterministic results\n",
    "## In case of remove() we will not change order\n",
    "## even if variable will be renamed\n",
    "## please see this link to see how set is ordered\n",
    "## https://stackoverflow.com/questions/12165200/order-of-unordered-python-sets\n",
    "rm_cols = [\n",
    "    'TransactionID','TransactionDT', # These columns are pure noise right now\n",
    "    TARGET,                          # Not target in features))\n",
    "    'uid','uid2','uid3',             # Our new client uID -> very noisy data\n",
    "    'bank_type',                     # Victims bank could differ by time\n",
    "    'DT','DT_M','DT_W','DT_D',       # Temporary Variables\n",
    "    'DT_hour','DT_day_week','DT_day',\n",
    "    'DT_D_total','DT_W_total','DT_M_total',\n",
    "    'id_30','id_31','id_33',\n",
    "]"
   ]
  },
  {
   "cell_type": "code",
   "execution_count": 54,
   "metadata": {
    "colab": {
     "base_uri": "https://localhost:8080/",
     "height": 94
    },
    "colab_type": "code",
    "id": "Tbm0ZDwgt_IU",
    "outputId": "482bf81e-405f-4a35-f983-a30f08d02166"
   },
   "outputs": [
    {
     "name": "stdout",
     "output_type": "stream",
     "text": [
      "['id_30_fq_enc', 'C9_fq_enc', 'uid_TransactionAmt_mean', 'card1_TransactionAmt_std', 'C2_fq_enc', 'id_30_version_fq_enc', 'id_33_0', 'id_33_1', 'uid2_TransactionAmt_mean', 'D5_fq_enc', 'card2_TransactionAmt_mean', 'DeviceInfo_device_fq_enc', 'id_30_device', 'uid_DT_D', 'R_emaildomain_prefix', 'DeviceInfo_device', 'C13_fq_enc', 'C10_fq_enc', 'C5_fq_enc', 'TransactionAmt_to_mean_ProductCD', 'D8_fq_enc', 'R_emaildomain_fq_enc', 'D3_fq_enc', 'DeviceInfo_version', 'M4_target_mean', 'C8_fq_enc', 'D2_fq_enc', 'D4_fq_enc', 'C14_fq_enc', 'DeviceInfo_fq_enc', 'email_check', 'id_31_device_fq_enc', 'D1_fq_enc', 'TransactionAmt_to_std_ProductCD', 'C6_fq_enc', 'M_sum', 'id_31_device', 'C4_fq_enc', 'ProductCD_target_mean', 'id_30_device_fq_enc', 'M_na', 'id_30_version', 'card1_TransactionAmt_mean', 'dist1_fq_enc', 'uid_DT_M', 'id_33_fq_enc', 'C12_fq_enc', 'DeviceInfo_version_fq_enc', 'C1_fq_enc']\n"
     ]
    }
   ],
   "source": [
    "########################### Features elimination \n",
    "from scipy.stats import ks_2samp\n",
    "features_check = []\n",
    "columns_to_check = set(list(train_df)).difference(base_columns+rm_cols)\n",
    "for i in columns_to_check:\n",
    "    features_check.append(ks_2samp(test_df[i], train_df[i])[1])\n",
    "\n",
    "features_check = pd.Series(features_check, index=columns_to_check).sort_values() \n",
    "features_discard = list(features_check[features_check==0].index)\n",
    "print(features_discard)\n",
    "\n",
    "# We will reset this list for now,\n",
    "# Good droping will be in other kernels\n",
    "# with better checking\n",
    "features_discard = [] \n",
    "\n",
    "# Final features list\n",
    "features_columns = [col for col in list(train_df) if col not in rm_cols + features_discard]"
   ]
  },
  {
   "cell_type": "code",
   "execution_count": 55,
   "metadata": {
    "colab": {
     "base_uri": "https://localhost:8080/",
     "height": 51
    },
    "colab_type": "code",
    "id": "_knasNa0t_IV",
    "outputId": "b77d69ea-eabc-4cf3-daf7-09ea344c6d98"
   },
   "outputs": [
    {
     "name": "stdout",
     "output_type": "stream",
     "text": [
      "Mem. usage decreased to 148.92 Mb (0.0% reduction)\n",
      "Mem. usage decreased to 147.09 Mb (0.0% reduction)\n"
     ]
    }
   ],
   "source": [
    "train_df = reduce_mem_usage(train_df)\n",
    "test_df  = reduce_mem_usage(test_df)\n",
    "\n",
    "del train_identity, test_identity\n",
    "gc.collect()\n",
    "\n",
    "###########################\n",
    "x_train_array = np.array(train_df[features_columns])\n",
    "y_train_array = np.array(train_df[TARGET])#.values\n",
    "\n",
    "x_train_array = x_train_array.astype('float16')\n",
    "y_train_array = y_train_array.astype('float16')\n",
    "\n",
    "for i in range(len(x_train_array)):\n",
    "    x_train_array[i]=np.nan_to_num(x_train_array[i])\n",
    "    y_train_array[i]=np.nan_to_num(y_train_array[i]) \n",
    "    \n",
    "# Save 2D numpy array to csv file\n",
    "#np.savetxt('x_train_array.csv', x_train_array, delimiter=',', fmt='%d')\n",
    "#np.savetxt('y_train_array.csv', y_train_array, delimiter=',', fmt='%d')"
   ]
  },
  {
   "cell_type": "code",
   "execution_count": 0,
   "metadata": {
    "colab": {},
    "colab_type": "code",
    "id": "y0Kenrm-t_IX"
   },
   "outputs": [],
   "source": [
    "tr_x, vl_x, tr_y, vl_y = train_test_split( x_train_array, y_train_array, test_size=0.2, random_state=42, stratify=y_train_array)"
   ]
  },
  {
   "cell_type": "markdown",
   "metadata": {
    "colab_type": "text",
    "id": "E9okZxpht_IV"
   },
   "source": [
    "### Pytorch"
   ]
  },
  {
   "cell_type": "code",
   "execution_count": 0,
   "metadata": {
    "colab": {},
    "colab_type": "code",
    "id": "Kt5apwyYt_IW"
   },
   "outputs": [],
   "source": [
    "import torch\n",
    "from torch.autograd import Variable\n",
    "\n",
    "random.seed(113)\n",
    "torch.manual_seed(113)\n",
    "torch.cuda.manual_seed(113)\n",
    "np.random.seed(113)\n",
    "torch.backends.cudnn.deterministic = True\n",
    "torch.backends.cudnn.benchmark = False\n"
   ]
  },
  {
   "cell_type": "code",
   "execution_count": 58,
   "metadata": {
    "colab": {
     "base_uri": "https://localhost:8080/",
     "height": 34
    },
    "colab_type": "code",
    "id": "qKNSe3JPeCEN",
    "outputId": "4124db7d-d7ef-4dc4-86e7-175c9e5e480c"
   },
   "outputs": [
    {
     "name": "stdout",
     "output_type": "stream",
     "text": [
      "cuda:0\n"
     ]
    }
   ],
   "source": [
    "device = torch.device(\"cuda:0\" if torch.cuda.is_available() else \"cpu\")\n",
    "print(device)"
   ]
  },
  {
   "cell_type": "code",
   "execution_count": 0,
   "metadata": {
    "colab": {},
    "colab_type": "code",
    "id": "H-N5rAebF4uH"
   },
   "outputs": [],
   "source": [
    "gpu_use = True"
   ]
  },
  {
   "cell_type": "code",
   "execution_count": 0,
   "metadata": {
    "colab": {},
    "colab_type": "code",
    "id": "SpksHgU8F64x"
   },
   "outputs": [],
   "source": [
    "# Wrap in variable\n",
    "if gpu_use:\n",
    "    x_train = Variable(torch.from_numpy(tr_x).cuda())   #[:10]))\n",
    "    y_train = Variable(torch.from_numpy(tr_y).cuda())   #[:10]))\n",
    "    x_val = Variable(torch.from_numpy(vl_x).cuda())     #[:2]))\n",
    "    y_val = Variable(torch.from_numpy(vl_y).cuda())     #[:2]))\n",
    "else:\n",
    "    x_train = Variable(torch.from_numpy(tr_x))#.cuda())   #[:10]))\n",
    "    y_train = Variable(torch.from_numpy(tr_y))#.cuda())   #[:10]))\n",
    "    x_val = Variable(torch.from_numpy(vl_x))#.cuda())     #[:2]))\n",
    "    y_val = Variable(torch.from_numpy(vl_y))#.cuda())     #[:2]))\n",
    "\n"
   ]
  },
  {
   "cell_type": "code",
   "execution_count": 0,
   "metadata": {
    "colab": {},
    "colab_type": "code",
    "id": "yrAP41jAt_IW"
   },
   "outputs": [],
   "source": [
    "class Model_one(torch.nn.Module):\n",
    "\n",
    "    def __init__(self):\n",
    "        \"\"\"\n",
    "        In the constructor we instantiate two nn.Linear module\n",
    "        \"\"\"\n",
    "        super(Model_one, self).__init__()\n",
    "# Set 1\n",
    "#        self.l1 = torch.nn.Linear(507, 512)\n",
    "#        self.l2 = torch.nn.Linear(512, 256)\n",
    "#        self.l3 = torch.nn.Linear(256, 128)\n",
    "#        self.l4 = torch.nn.Linear(128, 64)\n",
    "#        self.l5 = torch.nn.Linear(64, 32)\n",
    "#        self.l6 = torch.nn.Linear(32, 1)\n",
    "\n",
    "# Set 2\n",
    "        self.l1 = torch.nn.Linear(507, 1024)\n",
    "        torch.nn.init.xavier_uniform(self.l1.weight)\n",
    "        self.l1.bias.data.fill_(0.01)\n",
    "        \n",
    "        self.l2 = torch.nn.Linear(1024, 512)\n",
    "        torch.nn.init.xavier_uniform(self.l2.weight)\n",
    "        self.l2.bias.data.fill_(0.01)\n",
    "\n",
    "        self.l3 = torch.nn.Linear(512, 256)\n",
    "        torch.nn.init.xavier_uniform(self.l3.weight)\n",
    "        self.l3.bias.data.fill_(0.01)\n",
    "\n",
    "        self.l4 = torch.nn.Linear(256, 128)\n",
    "        torch.nn.init.xavier_uniform(self.l4.weight)\n",
    "        self.l4.bias.data.fill_(0.01)\n",
    "\n",
    "        self.l5 = torch.nn.Linear(128, 64)\n",
    "        torch.nn.init.xavier_uniform(self.l5.weight)\n",
    "        self.l5.bias.data.fill_(0.01)\n",
    "\n",
    "        self.l6 = torch.nn.Linear(64, 1)\n",
    "        torch.nn.init.xavier_uniform(self.l6.weight)\n",
    "        self.l6.bias.data.fill_(0.01)\n",
    "\n",
    "\n",
    "\n",
    "        self.sigmoid = torch.nn.Sigmoid()\n",
    "        self.relu = torch.nn.ReLU()\n",
    "        \n",
    "    def forward(self, x):\n",
    "        \"\"\"\n",
    "        In the forward function we accept a Variable of input data and we must return\n",
    "        a Variable of output data. We can use Modules defined in the constructor as\n",
    "        well as arbitrary operators on Variables.\n",
    "        \"\"\"\n",
    "        out1 = self.sigmoid(self.l1(x))\n",
    "        out2 = self.sigmoid(self.l2(out1))\n",
    "        out3 = self.sigmoid(self.l3(out2))\n",
    "        out4 = self.sigmoid(self.l4(out3))\n",
    "        out5 = self.sigmoid(self.l5(out4))\n",
    "        y_pred = self.sigmoid(self.l6(out5))\n",
    "        return y_pred\n",
    "        #     print(out1.data)\n",
    "        #     print(out2.data)\n",
    "        #     print(y_pred.data)"
   ]
  },
  {
   "cell_type": "code",
   "execution_count": 70,
   "metadata": {
    "colab": {
     "base_uri": "https://localhost:8080/",
     "height": 1000
    },
    "colab_type": "code",
    "id": "sW9zfXYft_IX",
    "outputId": "d8a1e5b1-261d-49bd-ba2d-34da16a19e1c"
   },
   "outputs": [
    {
     "name": "stdout",
     "output_type": "stream",
     "text": [
      "1 0.4254973530769348 0.4255080223083496\n",
      "2 0.41284048557281494 0.4128502607345581\n",
      "3 0.4005873203277588 0.4005981981754303\n",
      "4 0.388748437166214 0.38875824213027954\n",
      "5 0.37733158469200134 0.3773423135280609\n",
      "6 0.3663419783115387 0.3663530647754669\n",
      "7 0.3557818531990051 0.3557927906513214\n",
      "8 0.34565022587776184 0.3456609845161438\n",
      "9 0.3359415531158447 0.335953027009964\n",
      "10 0.32665112614631653 0.32666265964508057\n",
      "11 0.3177703320980072 0.31778228282928467\n",
      "12 0.30928999185562134 0.3093011677265167\n",
      "13 0.30119985342025757 0.30121225118637085\n",
      "14 0.2934882938861847 0.2934994697570801\n",
      "15 0.28614234924316406 0.2861534059047699\n",
      "16 0.2791472375392914 0.27915966510772705\n",
      "17 0.2724907696247101 0.2725023925304413\n",
      "18 0.2661580443382263 0.26616984605789185\n",
      "19 0.2601357698440552 0.2601468861103058\n",
      "20 0.2544085383415222 0.25441935658454895\n",
      "21 0.2489628791809082 0.24897435307502747\n",
      "22 0.24378563463687897 0.2437976747751236\n",
      "23 0.2388620525598526 0.23887419700622559\n",
      "24 0.23417961597442627 0.23419120907783508\n",
      "25 0.22972586750984192 0.22973637282848358\n",
      "26 0.22548748552799225 0.22549884021282196\n",
      "27 0.2214541882276535 0.22146612405776978\n",
      "28 0.21761442720890045 0.2176266461610794\n",
      "29 0.2139580398797989 0.21397119760513306\n",
      "30 0.2104751318693161 0.21048900485038757\n",
      "31 0.20715589821338654 0.2071702927350998\n",
      "32 0.20399175584316254 0.2040063887834549\n",
      "33 0.20097434520721436 0.20098938047885895\n",
      "34 0.1980952024459839 0.19811022281646729\n",
      "35 0.19534707069396973 0.19536204636096954\n",
      "36 0.19272203743457794 0.1927371323108673\n",
      "37 0.19021305441856384 0.1902286410331726\n",
      "38 0.1878146082162857 0.18783064186573029\n",
      "39 0.18552041053771973 0.18553659319877625\n",
      "40 0.1833249181509018 0.18334108591079712\n",
      "41 0.18122264742851257 0.1812393069267273\n",
      "42 0.17920896410942078 0.17922574281692505\n",
      "43 0.1772787868976593 0.1772962361574173\n",
      "44 0.17542807757854462 0.1754457801580429\n",
      "45 0.17365220189094543 0.17367003858089447\n",
      "46 0.17194747924804688 0.17196539044380188\n",
      "47 0.17031022906303406 0.17032836377620697\n",
      "48 0.1687370240688324 0.16875556111335754\n",
      "49 0.16722460091114044 0.16724345088005066\n",
      "50 0.16576997935771942 0.16578884422779083\n",
      "51 0.1643701195716858 0.16438941657543182\n",
      "52 0.16302241384983063 0.163041889667511\n",
      "53 0.1617242991924286 0.16174393892288208\n",
      "54 0.16047342121601105 0.16049325466156006\n",
      "55 0.1592673659324646 0.1592874825000763\n",
      "56 0.15810419619083405 0.15812456607818604\n",
      "57 0.15698190033435822 0.15700241923332214\n",
      "58 0.1558985859155655 0.15591907501220703\n",
      "59 0.15485234558582306 0.15487299859523773\n",
      "60 0.1538415253162384 0.1538623571395874\n",
      "61 0.15286444127559662 0.15288543701171875\n",
      "62 0.1519199162721634 0.15194100141525269\n",
      "63 0.15100634098052979 0.15102757513523102\n",
      "64 0.15012229979038239 0.15014369785785675\n",
      "65 0.14926661550998688 0.1492881178855896\n",
      "66 0.14843817055225372 0.1484597772359848\n",
      "67 0.14763566851615906 0.1476573944091797\n",
      "68 0.1468581259250641 0.14687995612621307\n",
      "69 0.14610451459884644 0.14612668752670288\n",
      "70 0.1453738659620285 0.14539621770381927\n",
      "71 0.14466525614261627 0.14468781650066376\n",
      "72 0.14397791028022766 0.1440005600452423\n",
      "73 0.14331091940402985 0.14333359897136688\n",
      "74 0.14266352355480194 0.14268629252910614\n",
      "75 0.14203491806983948 0.14205783605575562\n",
      "76 0.14142446219921112 0.1414475291967392\n",
      "77 0.14083148539066315 0.14085452258586884\n",
      "78 0.14025528728961945 0.14027847349643707\n",
      "79 0.1396954208612442 0.1397186517715454\n",
      "80 0.13915105164051056 0.13917449116706848\n",
      "81 0.1386217325925827 0.13864518702030182\n",
      "82 0.13810692727565765 0.13813051581382751\n",
      "83 0.1376061588525772 0.13762983679771423\n",
      "84 0.1371188908815384 0.13714265823364258\n",
      "85 0.13664473593235016 0.13666854798793793\n",
      "86 0.1361832618713379 0.13620711863040924\n",
      "87 0.1357339471578598 0.1357579529285431\n",
      "88 0.13529643416404724 0.13532058894634247\n",
      "89 0.13487033545970917 0.13489460945129395\n",
      "90 0.13445529341697693 0.13447962701320648\n",
      "91 0.13405095040798187 0.1340753585100174\n",
      "92 0.13365690410137177 0.13368143141269684\n",
      "93 0.13327285647392273 0.13329748809337616\n",
      "94 0.1328985095024109 0.13292324542999268\n",
      "95 0.13253360986709595 0.1325584203004837\n",
      "96 0.13217775523662567 0.13220277428627014\n",
      "97 0.13183078169822693 0.13185586035251617\n",
      "98 0.13149236142635345 0.13151754438877106\n",
      "99 0.13116225600242615 0.1311875879764557\n",
      "100 0.1308402419090271 0.1308656483888626\n",
      "####################\n",
      "AUC score 0.7127504267015808\n"
     ]
    }
   ],
   "source": [
    "# Initiate model\n",
    "if gpu_use:\n",
    "    model_one = Model_one()\n",
    "    model_one.cuda()\n",
    "else:\n",
    "    model_one = Model_one()\n",
    "\n",
    "#del tr_x, tr_y, vl_x, vl_y\n",
    "\n",
    "# Construct our loss function and an Optimizer. The call to model.parameters()\n",
    "# in the SGD constructor will contain the learnable parameters of the two\n",
    "# nn.Linear modules which are members of the model.\n",
    "criterion = torch.nn.BCELoss(size_average=True)\n",
    "\n",
    "optimizer = torch.optim.Adam(model_one.parameters(), lr=0.0001)\n",
    "    \n",
    "tr_loss = []  \n",
    "vl_loss = []\n",
    "ep = []\n",
    "  \n",
    "for epoch in range(100):\n",
    "    # Forward pass: Compute predicted y by passing x to the model\n",
    "    y_train_pred = model_one(x_train.float())\n",
    "    \n",
    "    \n",
    "    # Compute loss on training set\n",
    "    loss_train = criterion(y_train_pred, y_train.float())\n",
    "    \n",
    "    \n",
    "    # Calculate loss on validation set and plot results\n",
    "    # at certain frequency\n",
    "    \n",
    "    if(((epoch + 1)%1 == 0) or (epoch==0)):\n",
    "    #if(((epoch + 1)%10 == 0) or (epoch==0)):\n",
    "        y_val_pred = model_one(x_val.float())\n",
    "        loss_val = criterion(y_val_pred, y_val.float())\n",
    "    \n",
    "        print(epoch+1, loss_train.item(), loss_val.item())#.data[0])\n",
    "        tr_loss.append(loss_train.item())\n",
    "        vl_loss.append(loss_val.item())\n",
    "        ep.append(epoch+1)\n",
    "    \n",
    "    \n",
    "    # Zero gradients, perform a backward pass, and update the weights.\n",
    "    optimizer.zero_grad()\n",
    "    loss_train.backward()\n",
    "    optimizer.step()\n",
    "        \n",
    "\n",
    "        \n",
    "# Calculate AUC Score\n",
    "print('#'*20)\n",
    "print('AUC score', metrics.roc_auc_score(vl_y, y_val_pred.cpu().detach().numpy()))\n",
    " \n",
    "# Free up memory after run\n",
    "del y_train_pred\n",
    "del loss_train\n",
    "del y_val_pred\n",
    "del loss_val\n",
    "del model_one\n",
    "torch.cuda.empty_cache()"
   ]
  },
  {
   "cell_type": "code",
   "execution_count": 71,
   "metadata": {
    "colab": {
     "base_uri": "https://localhost:8080/",
     "height": 615
    },
    "colab_type": "code",
    "id": "Ng0g-LxjxoSw",
    "outputId": "ff8cb299-4210-435b-8ac4-5dc17be4441b"
   },
   "outputs": [
    {
     "data": {
      "image/png": "[encoded data removed]",
      "text/plain": [
       "<Figure size 1080x720 with 1 Axes>"
      ]
     },
     "metadata": {
      "tags": []
     },
     "output_type": "display_data"
    }
   ],
   "source": [
    "plt.figure(figsize=(15,10))\n",
    "plt.plot(ep, vl_loss, color='red')\n",
    "plt.plot(ep, tr_loss, color='green')\n",
    "plt.show()"
   ]
  },
  {
   "cell_type": "code",
   "execution_count": 69,
   "metadata": {
    "colab": {
     "base_uri": "https://localhost:8080/",
     "height": 34
    },
    "colab_type": "code",
    "id": "OUQGpOPtFU8W",
    "outputId": "be4d6435-3326-4b90-f617-79aafcfec98f"
   },
   "outputs": [
    {
     "data": {
      "text/plain": [
       "148857856"
      ]
     },
     "execution_count": 69,
     "metadata": {
      "tags": []
     },
     "output_type": "execute_result"
    }
   ],
   "source": [
    "torch.cuda.memory_allocated(device=None)"
   ]
  },
  {
   "cell_type": "markdown",
   "metadata": {
    "colab_type": "text",
    "id": "D0l6Zk0yt_IY"
   },
   "source": [
    "### Output for submission"
   ]
  },
  {
   "cell_type": "code",
   "execution_count": 0,
   "metadata": {
    "colab": {},
    "colab_type": "code",
    "id": "br5lOfFzt_IY"
   },
   "outputs": [],
   "source": [
    "x_test_array = np.array(test_df[features_columns])\n",
    "x_test_array = x_test_array.astype('float16')\n",
    "\n",
    "for i in range(len(x_test_array)):\n",
    "    x_test_array[i]=np.nan_to_num(x_test_array[i])"
   ]
  },
  {
   "cell_type": "code",
   "execution_count": 0,
   "metadata": {
    "colab": {},
    "colab_type": "code",
    "id": "eaOCoOGlt_IZ"
   },
   "outputs": [],
   "source": [
    "x_test = Variable(torch.from_numpy(x_test_array))\n",
    "\n",
    "test_predictions = test_df[['TransactionID',TARGET]]\n",
    "predictions = model(x_test.float())\n",
    "test_predictions['prediction']  = predictions.detach().numpy()\n",
    "\n",
    "\n",
    "## OUTPUT\n",
    "\n",
    "if not LOCAL_TEST:\n",
    "    test_predictions['isFraud'] = test_predictions['prediction']\n",
    "    test_predictions[['TransactionID','isFraud']].to_csv('submission.csv', index=False)"
   ]
  },
  {
   "cell_type": "markdown",
   "metadata": {
    "colab_type": "text",
    "id": "Q4qiqLT_t_IZ"
   },
   "source": [
    "### THE END"
   ]
  },
  {
   "cell_type": "code",
   "execution_count": 0,
   "metadata": {
    "colab": {},
    "colab_type": "code",
    "id": "xeSS0p2Pt_IZ"
   },
   "outputs": [],
   "source": []
  },
  {
   "cell_type": "markdown",
   "metadata": {
    "colab_type": "text",
    "id": "1b_q5_nnt_Ia"
   },
   "source": [
    "folds = StratifiedKFold(n_splits=3, shuffle=True, random_state=SEED)\n",
    "\n",
    "#    X,y = tr_df[features_columns], tr_df[target]    \n",
    "#    P,P_y = tt_df[features_columns], tt_df[target]  \n",
    "\n",
    "#    tt_df = tt_df[['TransactionID',target]]    \n",
    "#    predictions = np.zeros(len(tt_df))\n",
    "    \n",
    "for fold_, (trn_idx, val_idx) in enumerate(folds.split(x_train_array, y_train_array)):\n",
    "    print('Fold:',fold_)\n",
    "    # Subset data\n",
    "    tr_x, tr_y = x_train_array[trn_idx,:], y_train_array[trn_idx]\n",
    "    vl_x, vl_y = x_train_array[val_idx,:], y_train_array[val_idx]\n",
    "    \n",
    "    # Wrap in variable\n",
    "    x_train = Variable(torch.from_numpy(tr_x))\n",
    "    y_train = Variable(torch.from_numpy(tr_y))\n",
    "    x_val = Variable(torch.from_numpy(vl_x))\n",
    "    y_val = Variable(torch.from_numpy(vl_y))\n",
    "\n",
    "    del tr_x, tr_y, vl_x, vl_y\n",
    "    \n",
    "    # Initiate our model\n",
    "    model = Model()\n",
    "\n",
    "    # Construct our loss function and an Optimizer. The call to model.parameters()\n",
    "    # in the SGD constructor will contain the learnable parameters of the two\n",
    "    # nn.Linear modules which are members of the model.\n",
    "    criterion = torch.nn.BCELoss(size_average=True)\n",
    "\n",
    "    #lnr_list = [0.1, 0.05]\n",
    "    #for lnr in lnr_list:\n",
    "    optimizer = torch.optim.SGD(model.parameters(), lr=0.1)\n",
    "    #print('learning rate = ', lnr)\n",
    "    \n",
    "    # Training loop on training set\n",
    "    print('Start training on Fold ', fold_)\n",
    "    for epoch in range(5):\n",
    "        # Forward pass: Compute predicted y by passing x to the model\n",
    "        y_train_pred = model(x_train.float())\n",
    "\n",
    "        # Compute and print loss\n",
    "        loss = criterion(y_train_pred, y_train.float())\n",
    "        print(epoch, loss.item())#.data[0])\n",
    "\n",
    "        # Zero gradients, perform a backward pass, and update the weights.\n",
    "        optimizer.zero_grad()\n",
    "        loss.backward()\n",
    "        optimizer.step()\n",
    "        \n",
    "    # Test on validation set\n",
    "    y_val_pred = model(x_val.float())\n",
    "    loss = criterion(y_val_pred, y_val.float())\n",
    "    print('Validation Score ', loss.item())"
   ]
  },
  {
   "cell_type": "markdown",
   "metadata": {
    "colab_type": "text",
    "id": "JqmvhNGLt_Ia"
   },
   "source": [
    "Output Prediction"
   ]
  },
  {
   "cell_type": "markdown",
   "metadata": {
    "colab_type": "text",
    "id": "apcS8XY5t_Ia"
   },
   "source": [
    "x_test_array = np.array(test_df[features_columns])\n",
    "x_test_array = x_test_array.astype('float16')\n",
    "\n",
    "for i in range(len(x_test_array)):\n",
    "    x_test_array[i]=np.nan_to_num(x_test_array[i])\n",
    "    \n",
    "\n",
    "#del test_df"
   ]
  },
  {
   "cell_type": "markdown",
   "metadata": {
    "colab_type": "text",
    "id": "QlaakWPat_Ia"
   },
   "source": [
    "x_test = Variable(torch.from_numpy(x_test_array))\n",
    "\n",
    "test_predictions = test_df[['TransactionID',TARGET]]\n",
    "predictions = model(x_test.float())\n",
    "test_predictions['prediction']  = predictions.detach().numpy()\n",
    "\n",
    "\n",
    "## OUTPUT\n",
    "\n",
    "if not LOCAL_TEST:\n",
    "    test_predictions['isFraud'] = test_predictions['prediction']\n",
    "    test_predictions[['TransactionID','isFraud']].to_csv('submission.csv', index=False)"
   ]
  },
  {
   "cell_type": "code",
   "execution_count": 0,
   "metadata": {
    "colab": {},
    "colab_type": "code",
    "id": "q3N_JzVAt_Ib"
   },
   "outputs": [],
   "source": []
  },
  {
   "cell_type": "code",
   "execution_count": 0,
   "metadata": {
    "colab": {},
    "colab_type": "code",
    "id": "DzNcnJmIt_Ic"
   },
   "outputs": [],
   "source": [
    "#x_train_array = np.array(train_df[features_columns])\n",
    "#y_train_array = np.array(train_df[TARGET])#.values\n",
    "\n",
    "#x_train_array = x_train_array.astype('float16')\n",
    "#y_train_array = y_train_array.astype('float16')\n",
    "\n",
    "#print(x_train_array.shape)\n",
    "#print(y_train_array.shape)"
   ]
  },
  {
   "cell_type": "code",
   "execution_count": 0,
   "metadata": {
    "colab": {},
    "colab_type": "code",
    "id": "icsaTqt8t_Ic"
   },
   "outputs": [],
   "source": [
    "#from skorch import NeuralNetClassifier\n",
    "\n",
    "#net = NeuralNetClassifier(Model, max_epochs = 10, lr = 0.1, iterator_train_shuffle = True)\n",
    "\n",
    "#net.fit(x_train, y_train)\n",
    "#y_proba = net.predict_proba(x_train)"
   ]
  },
  {
   "cell_type": "code",
   "execution_count": 0,
   "metadata": {
    "colab": {},
    "colab_type": "code",
    "id": "JpBq5-4rt_Id"
   },
   "outputs": [],
   "source": [
    "# our model\n",
    "#model = Model()\n",
    "\n",
    "\n",
    "# Construct our loss function and an Optimizer. The call to model.parameters()\n",
    "# in the SGD constructor will contain the learnable parameters of the two\n",
    "# nn.Linear modules which are members of the model.\n",
    "#criterion = torch.nn.BCELoss(size_average=True)\n",
    "\n",
    "#lnr_list = [0.1, 0.05]\n",
    "#for lnr in lnr_list:\n",
    " #   optimizer = torch.optim.SGD(model.parameters(), lr=lnr)\n",
    " #   print('learning rate = ', lnr)\n",
    "    \n",
    "    # Training loop\n",
    "  #  for epoch in range(5):\n",
    "        # Forward pass: Compute predicted y by passing x to the model\n",
    "  #      y_pred = model(x_train.float())\n",
    "\n",
    "        # Compute and print loss\n",
    "  #      loss = criterion(y_pred, y_train.float())\n",
    "  #      print(epoch, loss.item())#.data[0])\n",
    "\n",
    "        # Zero gradients, perform a backward pass, and update the weights.\n",
    "   #     optimizer.zero_grad()\n",
    "   #     loss.backward()\n",
    "    #    optimizer.step()"
   ]
  },
  {
   "cell_type": "code",
   "execution_count": 0,
   "metadata": {
    "colab": {},
    "colab_type": "code",
    "id": "ClUAWmZit_Id"
   },
   "outputs": [],
   "source": []
  },
  {
   "cell_type": "code",
   "execution_count": 0,
   "metadata": {
    "colab": {},
    "colab_type": "code",
    "id": "drn9q1cGt_Ie"
   },
   "outputs": [],
   "source": []
  },
  {
   "cell_type": "code",
   "execution_count": 0,
   "metadata": {
    "colab": {},
    "colab_type": "code",
    "id": "SPSXKYBDt_Ie"
   },
   "outputs": [],
   "source": []
  },
  {
   "cell_type": "code",
   "execution_count": 0,
   "metadata": {
    "colab": {},
    "colab_type": "code",
    "id": "q8SsEadtt_If"
   },
   "outputs": [],
   "source": []
  },
  {
   "cell_type": "code",
   "execution_count": 0,
   "metadata": {
    "colab": {},
    "colab_type": "code",
    "id": "NQMdRRbmt_If"
   },
   "outputs": [],
   "source": [
    "# ========== Model params\n",
    "lgb_params = {\n",
    "                    'objective':'binary',\n",
    "                    'boosting_type':'gbdt',\n",
    "                    'metric':'auc',\n",
    "                    'n_jobs':-1,\n",
    "                    'learning_rate':0.01,\n",
    "                    'num_leaves': 2**8,\n",
    "                    'max_depth':-1,\n",
    "                    'tree_learner':'serial',\n",
    "                    'colsample_bytree': 0.7,\n",
    "                    'subsample_freq':1,\n",
    "                    'subsample':0.7,\n",
    "                    'n_estimators':800,\n",
    "                    'max_bin':255,\n",
    "                    'verbose':-1,\n",
    "                    'seed': SEED,\n",
    "                    'early_stopping_rounds':100, \n",
    "                } "
   ]
  },
  {
   "cell_type": "code",
   "execution_count": 0,
   "metadata": {
    "colab": {},
    "colab_type": "code",
    "id": "qfGdFJu6t_Ig"
   },
   "outputs": [],
   "source": [
    "########################### Model\n",
    "import lightgbm as lgb\n",
    "\n",
    "def make_predictions(tr_df, tt_df, features_columns, target, lgb_params, NFOLDS):\n",
    "    folds = KFold(n_splits=NFOLDS, shuffle=True, random_state=SEED)\n",
    "\n",
    "    X,y = tr_df[features_columns], tr_df[target]    \n",
    "    P,P_y = tt_df[features_columns], tt_df[target]  \n",
    "\n",
    "    tt_df = tt_df[['TransactionID',target]]    \n",
    "    predictions = np.zeros(len(tt_df))\n",
    "    \n",
    "    for fold_, (trn_idx, val_idx) in enumerate(folds.split(X, y)):\n",
    "        print('Fold:',fold_)\n",
    "        tr_x, tr_y = X.iloc[trn_idx,:], y[trn_idx]\n",
    "        vl_x, vl_y = X.iloc[val_idx,:], y[val_idx]\n",
    "            \n",
    "        print(len(tr_x),len(vl_x))\n",
    "        tr_data = lgb.Dataset(tr_x, label=tr_y)\n",
    "\n",
    "        if LOCAL_TEST:\n",
    "            vl_data = lgb.Dataset(P, label=P_y) \n",
    "        else:\n",
    "            vl_data = lgb.Dataset(vl_x, label=vl_y)  \n",
    "\n",
    "        estimator = lgb.train(\n",
    "            lgb_params,\n",
    "            tr_data,\n",
    "            valid_sets = [tr_data, vl_data],\n",
    "            verbose_eval = 200,\n",
    "        )   \n",
    "        \n",
    "        pp_p = estimator.predict(P)\n",
    "        predictions += pp_p/NFOLDS\n",
    "\n",
    "        if LOCAL_TEST:\n",
    "            feature_imp = pd.DataFrame(sorted(zip(estimator.feature_importance(),X.columns)), columns=['Value','Feature'])\n",
    "            print(feature_imp)\n",
    "        \n",
    "        del tr_x, tr_y, vl_x, vl_y, tr_data, vl_data\n",
    "        gc.collect()\n",
    "        \n",
    "    tt_df['prediction']  = predictions\n",
    "    \n",
    "    return tt_df\n",
    "## -------------------"
   ]
  },
  {
   "cell_type": "code",
   "execution_count": 0,
   "metadata": {
    "colab": {},
    "colab_type": "code",
    "id": "UpE_0TfQt_Ig"
   },
   "outputs": [],
   "source": [
    "########################### Model Train\n",
    "\n",
    "#if LOCAL_TEST:\n",
    "#    test_predictions = make_predictions(train_df, test_df, features_columns, TARGET, lgb_params)\n",
    "#    print(metrics.roc_auc_score(test_predictions[TARGET], test_predictions['prediction']))\n",
    "#else:\n",
    "#    lgb_params['learning_rate'] = 0.01\n",
    "#    lgb_params['n_estimators'] = 800\n",
    "#    lgb_params['early_stopping_rounds'] = 100    \n",
    "#    test_predictions = make_predictions(train_df, test_df, features_columns, TARGET, lgb_params, 10)"
   ]
  },
  {
   "cell_type": "code",
   "execution_count": 0,
   "metadata": {
    "colab": {},
    "colab_type": "code",
    "id": "HXXMSeJqt_Ih"
   },
   "outputs": [],
   "source": [
    "## OUTPUT\n",
    "\n",
    "#if not LOCAL_TEST:\n",
    "#    test_predictions['isFraud'] = test_predictions['prediction']\n",
    "#    test_predictions[['TransactionID','isFraud']].to_csv('submission.csv', index=False)"
   ]
  },
  {
   "cell_type": "code",
   "execution_count": 0,
   "metadata": {
    "colab": {},
    "colab_type": "code",
    "id": "EhgVI2iJt_Ih"
   },
   "outputs": [],
   "source": []
  },
  {
   "cell_type": "code",
   "execution_count": 0,
   "metadata": {
    "colab": {},
    "colab_type": "code",
    "id": "9DBQuwhIt_Ii"
   },
   "outputs": [],
   "source": []
  },
  {
   "cell_type": "code",
   "execution_count": 0,
   "metadata": {
    "colab": {},
    "colab_type": "code",
    "id": "bkSPeFZyt_Ii"
   },
   "outputs": [],
   "source": []
  },
  {
   "cell_type": "code",
   "execution_count": 0,
   "metadata": {
    "colab": {},
    "colab_type": "code",
    "id": "8SJe6fpbt_Ij"
   },
   "outputs": [],
   "source": [
    "#target_encoding_list = ['ProductCD', 'card4', 'card6', 'M4', 'P_emaildomain', 'R_emaildomain']#, 'DeviceType']\n",
    "\n",
    "#for col in target_encoding_list:\n",
    "#    targetc = KFoldTargetEncoderTrain(col,'isFraud',n_fold=10)\n",
    " #   train_df = targetc.fit_transform(train_df)\n",
    "\n",
    "  #  test_targetc = KFoldTargetEncoderTest(train_df,col,col+'_Kfold_Target_Enc')\n",
    "   # test_targetc.fit_transform(test_df)"
   ]
  },
  {
   "cell_type": "code",
   "execution_count": 0,
   "metadata": {
    "colab": {},
    "colab_type": "code",
    "id": "lhlIarKRt_Ik"
   },
   "outputs": [],
   "source": [
    "########################### card4, card6, ProductCD\n",
    "#################################################################################\n",
    "# Converting Strings to ints(or floats if nan in column) using frequency encoding\n",
    "# We will be able to use these columns as category or as numerical feature\n",
    "\n",
    "#for col in ['card4', 'card6', 'ProductCD']:\n",
    " #   print('Encoding', col)\n",
    " #   temp_df = pd.concat([train_df[[col]], test_df[[col]]])\n",
    " #   col_encoded = temp_df[col].value_counts().to_dict()   \n",
    " #   train_df[col] = train_df[col].map(col_encoded)\n",
    " #   test_df[col]  = test_df[col].map(col_encoded)\n",
    " #   print(col_encoded)"
   ]
  },
  {
   "cell_type": "code",
   "execution_count": 0,
   "metadata": {
    "colab": {},
    "colab_type": "code",
    "id": "JV7eZGRgt_Ik"
   },
   "outputs": [],
   "source": [
    "########################### M columns\n",
    "#################################################################################\n",
    "# Converting Strings to ints(or floats if nan in column)\n",
    "\n",
    "#for col in ['M1','M2','M3','M5','M6','M7','M8','M9']:\n",
    "#    train_df[col] = train_df[col].map({'T':1, 'F':0})\n",
    "#    test_df[col]  = test_df[col].map({'T':1, 'F':0})\n",
    "\n",
    "#for col in ['M4']:\n",
    " #   print('Encoding', col)\n",
    " #   temp_df = pd.concat([train_df[[col]], test_df[[col]]])\n",
    " #   col_encoded = temp_df[col].value_counts().to_dict()   \n",
    " #   train_df[col] = train_df[col].map(col_encoded)\n",
    " #   test_df[col]  = test_df[col].map(col_encoded)\n",
    " #   print(col_encoded)"
   ]
  },
  {
   "cell_type": "code",
   "execution_count": 0,
   "metadata": {
    "colab": {},
    "colab_type": "code",
    "id": "4sQppG3Ut_Ik"
   },
   "outputs": [],
   "source": [
    "########################### Final Minification\n",
    "#################################################################################\n",
    "\n",
    "#train_df = reduce_mem_usage(train_df)\n",
    "#test_df  = reduce_mem_usage(test_df)\n",
    "\n",
    "#train_identity = reduce_mem_usage(train_identity)\n",
    "#test_identity  = reduce_mem_usage(test_identity)"
   ]
  },
  {
   "cell_type": "code",
   "execution_count": 0,
   "metadata": {
    "colab": {},
    "colab_type": "code",
    "id": "hGkrTAHut_Il"
   },
   "outputs": [],
   "source": [
    "########################### Export\n",
    "#################################################################################\n",
    "\n",
    "#train_df.to_pickle('train_transaction.pkl')\n",
    "#test_df.to_pickle('test_transaction.pkl')\n",
    "\n",
    "#train_identity.to_pickle('train_identity.pkl')\n",
    "#test_identity.to_pickle('test_identity.pkl')"
   ]
  },
  {
   "cell_type": "code",
   "execution_count": 0,
   "metadata": {
    "colab": {},
    "colab_type": "code",
    "id": "aVuJlrJIt_Im"
   },
   "outputs": [],
   "source": [
    "#SEED = 42\n",
    "#seed_everything(SEED)\n",
    "#LOCAL_TEST = False\n",
    "#TARGET = 'isFraud'"
   ]
  },
  {
   "cell_type": "code",
   "execution_count": 0,
   "metadata": {
    "colab": {},
    "colab_type": "code",
    "id": "rL91JDdzt_In"
   },
   "outputs": [],
   "source": [
    "########################### Reset values for \"noise\" card1\n",
    "#valid_card = train_df['card1'].value_counts()\n",
    "#valid_card = valid_card[valid_card>10]\n",
    "#valid_card = list(valid_card.index)\n",
    "    \n",
    "#train_df['card1'] = np.where(train_df['card1'].isin(valid_card), train_df['card1'], np.nan)\n",
    "#test_df['card1']  = np.where(test_df['card1'].isin(valid_card), test_df['card1'], np.nan)"
   ]
  },
  {
   "cell_type": "code",
   "execution_count": 0,
   "metadata": {
    "colab": {},
    "colab_type": "code",
    "id": "C_GjAQokt_In"
   },
   "outputs": [],
   "source": [
    "## FREQUENCY ENCODING\n",
    "#i_cols = ['card1','card2','card3','card5',\n",
    "#          'C1','C2','C3','C4','C5','C6','C7','C8','C9','C10','C11','C12','C13','C14',\n",
    "#          'D1','D2','D3','D4','D5','D6','D7','D8','D9',\n",
    "#          'addr1','addr2',\n",
    "#          'dist1','dist2',\n",
    "#          'P_emaildomain', 'R_emaildomain'\n",
    "#         ]\n",
    "\n",
    "#for col in i_cols:\n",
    "#    temp_df = pd.concat([train_df[[col]], test_df[[col]]])\n",
    "#    fq_encode = temp_df[col].value_counts().to_dict()   \n",
    "#    train_df[col+'_fq_enc'] = train_df[col].map(fq_encode)\n",
    "#    test_df[col+'_fq_enc']  = test_df[col].map(fq_encode)"
   ]
  },
  {
   "cell_type": "code",
   "execution_count": 0,
   "metadata": {
    "colab": {},
    "colab_type": "code",
    "id": "roHzB5PRt_Io"
   },
   "outputs": [],
   "source": [
    "## ProductCD and M4 Target mean\n",
    "#for col in ['ProductCD','M4']:\n",
    "#    temp_dict = train_df.groupby([col])[TARGET].agg(['mean']).reset_index().rename(\n",
    "                                                  #      columns={'mean': col+'_target_mean'})\n",
    "#    temp_dict.index = temp_dict[col].values\n",
    "#    temp_dict = temp_dict[col+'_target_mean'].to_dict()\n",
    "\n",
    "#    train_df[col+'_target_mean'] = train_df[col].map(temp_dict)\n",
    "#    test_df[col+'_target_mean']  = test_df[col].map(temp_dict)"
   ]
  },
  {
   "cell_type": "code",
   "execution_count": 0,
   "metadata": {
    "colab": {},
    "colab_type": "code",
    "id": "wJ88tzO8t_Io"
   },
   "outputs": [],
   "source": [
    "## Encode Str columns\n",
    "#for col in list(train_df):\n",
    "#    if train_df[col].dtype=='O':\n",
    "#        print(col)\n",
    "#        train_df[col] = train_df[col].fillna('unseen_before_label')\n",
    "#        test_df[col]  = test_df[col].fillna('unseen_before_label')\n",
    "        \n",
    "#        train_df[col] = train_df[col].astype(str)\n",
    "#        test_df[col] = test_df[col].astype(str)\n",
    "        \n",
    "#        le = LabelEncoder()\n",
    "#        le.fit(list(train_df[col])+list(test_df[col]))\n",
    "#        train_df[col] = le.transform(train_df[col])\n",
    "#        test_df[col]  = le.transform(test_df[col])\n",
    "        \n",
    "#        train_df[col] = train_df[col].astype('category')\n",
    "#        test_df[col] = test_df[col].astype('category')"
   ]
  }
 ],
 "metadata": {
  "accelerator": "GPU",
  "colab": {
   "collapsed_sections": [
    "Q4qiqLT_t_IZ"
   ],
   "machine_shape": "hm",
   "name": "6L_Adam_Xavier_uni_Bias_Sig+ReLU.ipynb",
   "provenance": [],
   "toc_visible": true
  },
  "kernelspec": {
   "display_name": "Python 3",
   "language": "python",
   "name": "python3"
  },
  "language_info": {
   "codemirror_mode": {
    "name": "ipython",
    "version": 3
   },
   "file_extension": ".py",
   "mimetype": "text/x-python",
   "name": "python",
   "nbconvert_exporter": "python",
   "pygments_lexer": "ipython3",
   "version": "3.7.3"
  }
 },
 "nbformat": 4,
 "nbformat_minor": 1
}
