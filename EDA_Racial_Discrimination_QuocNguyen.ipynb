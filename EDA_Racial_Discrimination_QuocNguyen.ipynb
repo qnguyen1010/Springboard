{
 "cells": [
  {
   "cell_type": "markdown",
   "metadata": {},
   "source": [
    "# Examining Racial Discrimination in the US Job Market\n",
    "\n",
    "### Background\n",
    "Racial discrimination continues to be pervasive in cultures throughout the world. Researchers examined the level of racial discrimination in the United States labor market by randomly assigning identical résumés to black-sounding or white-sounding names and observing the impact on requests for interviews from employers.\n",
    "\n",
    "### Data\n",
    "In the dataset provided, each row represents a resume. The 'race' column has two values, 'b' and 'w', indicating black-sounding and white-sounding. The column 'call' has two values, 1 and 0, indicating whether the resume received a call from employers or not.\n",
    "\n",
    "Note that the 'b' and 'w' values in race are assigned randomly to the resumes when presented to the employer."
   ]
  },
  {
   "cell_type": "markdown",
   "metadata": {},
   "source": [
    "### Exercises\n",
    "You will perform a statistical analysis to establish whether race has a significant impact on the rate of callbacks for resumes.\n",
    "\n",
    "Answer the following questions **in this notebook below and submit to your Github account**. \n",
    "\n",
    "   1. What test is appropriate for this problem? Does CLT apply?\n",
    "   2. What are the null and alternate hypotheses?\n",
    "   3. Compute margin of error, confidence interval, and p-value. Try using both the bootstrapping and the frequentist statistical approaches.\n",
    "   4. Write a story describing the statistical significance in the context or the original problem.\n",
    "   5. Does your analysis mean that race/name is the most important factor in callback success? Why or why not? If not, how would you amend your analysis?\n",
    "\n",
    "You can include written notes in notebook cells using Markdown: \n",
    "   - In the control panel at the top, choose Cell > Cell Type > Markdown\n",
    "   - Markdown syntax: http://nestacms.com/docs/creating-content/markdown-cheat-sheet\n",
    "\n",
    "#### Resources\n",
    "+ Experiment information and data source: http://www.povertyactionlab.org/evaluation/discrimination-job-market-united-states\n",
    "+ Scipy statistical methods: http://docs.scipy.org/doc/scipy/reference/stats.html \n",
    "+ Markdown syntax: http://nestacms.com/docs/creating-content/markdown-cheat-sheet\n",
    "+ Formulas for the Bernoulli distribution: https://en.wikipedia.org/wiki/Bernoulli_distribution"
   ]
  },
  {
   "cell_type": "code",
   "execution_count": 1,
   "metadata": {},
   "outputs": [],
   "source": [
    "import pandas as pd\n",
    "import numpy as np\n",
    "from scipy import stats\n",
    "import matplotlib.pyplot as plt"
   ]
  },
  {
   "cell_type": "code",
   "execution_count": 2,
   "metadata": {},
   "outputs": [],
   "source": [
    "data = pd.io.stata.read_stata('data/us_job_market_discrimination.dta')"
   ]
  },
  {
   "cell_type": "code",
   "execution_count": 3,
   "metadata": {},
   "outputs": [
    {
     "data": {
      "text/html": [
       "<div>\n",
       "<style scoped>\n",
       "    .dataframe tbody tr th:only-of-type {\n",
       "        vertical-align: middle;\n",
       "    }\n",
       "\n",
       "    .dataframe tbody tr th {\n",
       "        vertical-align: top;\n",
       "    }\n",
       "\n",
       "    .dataframe thead th {\n",
       "        text-align: right;\n",
       "    }\n",
       "</style>\n",
       "<table border=\"1\" class=\"dataframe\">\n",
       "  <thead>\n",
       "    <tr style=\"text-align: right;\">\n",
       "      <th></th>\n",
       "      <th>id</th>\n",
       "      <th>ad</th>\n",
       "      <th>education</th>\n",
       "      <th>ofjobs</th>\n",
       "      <th>yearsexp</th>\n",
       "      <th>honors</th>\n",
       "      <th>volunteer</th>\n",
       "      <th>military</th>\n",
       "      <th>empholes</th>\n",
       "      <th>occupspecific</th>\n",
       "      <th>...</th>\n",
       "      <th>compreq</th>\n",
       "      <th>orgreq</th>\n",
       "      <th>manuf</th>\n",
       "      <th>transcom</th>\n",
       "      <th>bankreal</th>\n",
       "      <th>trade</th>\n",
       "      <th>busservice</th>\n",
       "      <th>othservice</th>\n",
       "      <th>missind</th>\n",
       "      <th>ownership</th>\n",
       "    </tr>\n",
       "  </thead>\n",
       "  <tbody>\n",
       "    <tr>\n",
       "      <th>0</th>\n",
       "      <td>b</td>\n",
       "      <td>1</td>\n",
       "      <td>4</td>\n",
       "      <td>2</td>\n",
       "      <td>6</td>\n",
       "      <td>0</td>\n",
       "      <td>0</td>\n",
       "      <td>0</td>\n",
       "      <td>1</td>\n",
       "      <td>17</td>\n",
       "      <td>...</td>\n",
       "      <td>1.0</td>\n",
       "      <td>0.0</td>\n",
       "      <td>1.0</td>\n",
       "      <td>0.0</td>\n",
       "      <td>0.0</td>\n",
       "      <td>0.0</td>\n",
       "      <td>0.0</td>\n",
       "      <td>0.0</td>\n",
       "      <td>0.0</td>\n",
       "      <td></td>\n",
       "    </tr>\n",
       "    <tr>\n",
       "      <th>1</th>\n",
       "      <td>b</td>\n",
       "      <td>1</td>\n",
       "      <td>3</td>\n",
       "      <td>3</td>\n",
       "      <td>6</td>\n",
       "      <td>0</td>\n",
       "      <td>1</td>\n",
       "      <td>1</td>\n",
       "      <td>0</td>\n",
       "      <td>316</td>\n",
       "      <td>...</td>\n",
       "      <td>1.0</td>\n",
       "      <td>0.0</td>\n",
       "      <td>1.0</td>\n",
       "      <td>0.0</td>\n",
       "      <td>0.0</td>\n",
       "      <td>0.0</td>\n",
       "      <td>0.0</td>\n",
       "      <td>0.0</td>\n",
       "      <td>0.0</td>\n",
       "      <td></td>\n",
       "    </tr>\n",
       "    <tr>\n",
       "      <th>2</th>\n",
       "      <td>b</td>\n",
       "      <td>1</td>\n",
       "      <td>4</td>\n",
       "      <td>1</td>\n",
       "      <td>6</td>\n",
       "      <td>0</td>\n",
       "      <td>0</td>\n",
       "      <td>0</td>\n",
       "      <td>0</td>\n",
       "      <td>19</td>\n",
       "      <td>...</td>\n",
       "      <td>1.0</td>\n",
       "      <td>0.0</td>\n",
       "      <td>1.0</td>\n",
       "      <td>0.0</td>\n",
       "      <td>0.0</td>\n",
       "      <td>0.0</td>\n",
       "      <td>0.0</td>\n",
       "      <td>0.0</td>\n",
       "      <td>0.0</td>\n",
       "      <td></td>\n",
       "    </tr>\n",
       "    <tr>\n",
       "      <th>3</th>\n",
       "      <td>b</td>\n",
       "      <td>1</td>\n",
       "      <td>3</td>\n",
       "      <td>4</td>\n",
       "      <td>6</td>\n",
       "      <td>0</td>\n",
       "      <td>1</td>\n",
       "      <td>0</td>\n",
       "      <td>1</td>\n",
       "      <td>313</td>\n",
       "      <td>...</td>\n",
       "      <td>1.0</td>\n",
       "      <td>0.0</td>\n",
       "      <td>1.0</td>\n",
       "      <td>0.0</td>\n",
       "      <td>0.0</td>\n",
       "      <td>0.0</td>\n",
       "      <td>0.0</td>\n",
       "      <td>0.0</td>\n",
       "      <td>0.0</td>\n",
       "      <td></td>\n",
       "    </tr>\n",
       "    <tr>\n",
       "      <th>4</th>\n",
       "      <td>b</td>\n",
       "      <td>1</td>\n",
       "      <td>3</td>\n",
       "      <td>3</td>\n",
       "      <td>22</td>\n",
       "      <td>0</td>\n",
       "      <td>0</td>\n",
       "      <td>0</td>\n",
       "      <td>0</td>\n",
       "      <td>313</td>\n",
       "      <td>...</td>\n",
       "      <td>1.0</td>\n",
       "      <td>1.0</td>\n",
       "      <td>0.0</td>\n",
       "      <td>0.0</td>\n",
       "      <td>0.0</td>\n",
       "      <td>0.0</td>\n",
       "      <td>0.0</td>\n",
       "      <td>1.0</td>\n",
       "      <td>0.0</td>\n",
       "      <td>Nonprofit</td>\n",
       "    </tr>\n",
       "  </tbody>\n",
       "</table>\n",
       "<p>5 rows × 65 columns</p>\n",
       "</div>"
      ],
      "text/plain": [
       "  id ad  education  ofjobs  yearsexp  honors  volunteer  military  empholes  \\\n",
       "0  b  1          4       2         6       0          0         0         1   \n",
       "1  b  1          3       3         6       0          1         1         0   \n",
       "2  b  1          4       1         6       0          0         0         0   \n",
       "3  b  1          3       4         6       0          1         0         1   \n",
       "4  b  1          3       3        22       0          0         0         0   \n",
       "\n",
       "   occupspecific    ...      compreq  orgreq  manuf  transcom  bankreal trade  \\\n",
       "0             17    ...          1.0     0.0    1.0       0.0       0.0   0.0   \n",
       "1            316    ...          1.0     0.0    1.0       0.0       0.0   0.0   \n",
       "2             19    ...          1.0     0.0    1.0       0.0       0.0   0.0   \n",
       "3            313    ...          1.0     0.0    1.0       0.0       0.0   0.0   \n",
       "4            313    ...          1.0     1.0    0.0       0.0       0.0   0.0   \n",
       "\n",
       "  busservice othservice  missind  ownership  \n",
       "0        0.0        0.0      0.0             \n",
       "1        0.0        0.0      0.0             \n",
       "2        0.0        0.0      0.0             \n",
       "3        0.0        0.0      0.0             \n",
       "4        0.0        1.0      0.0  Nonprofit  \n",
       "\n",
       "[5 rows x 65 columns]"
      ]
     },
     "execution_count": 3,
     "metadata": {},
     "output_type": "execute_result"
    }
   ],
   "source": [
    "data.head()"
   ]
  },
  {
   "cell_type": "code",
   "execution_count": 4,
   "metadata": {},
   "outputs": [
    {
     "name": "stdout",
     "output_type": "stream",
     "text": [
      "callbacks for black-sounding names =  157.0\n",
      "NO callbacks for black-sounding names =  2278.0\n",
      "callbacks for white-sounding names =  235.0\n",
      "NO callbacks for white-sounding names =  2200.0\n"
     ]
    }
   ],
   "source": [
    "# number of callbacks for black-sounding names\n",
    "print('callbacks for black-sounding names = ',sum(data[data.race=='b'].call))\n",
    "\n",
    "# number of NO callbacks for black-sounding names\n",
    "print('NO callbacks for black-sounding names = ',len(data[data.race=='b']) - sum(data[data.race=='b'].call))\n",
    "\n",
    "# number of callbacks for white-sounding names\n",
    "print('callbacks for white-sounding names = ',sum(data[data.race=='w'].call))\n",
    "\n",
    "# number of NO callbacks for white-sounding names\n",
    "print('NO callbacks for white-sounding names = ',len(data[data.race=='w']) - sum(data[data.race=='w'].call))"
   ]
  },
  {
   "cell_type": "markdown",
   "metadata": {
    "collapsed": true
   },
   "source": [
    "### Q1: What test is appropriate for this problem? Does CLT apply?\n",
    "**z-test** is appropriate for this problem as our sample size is big. **Central Limit Theorem** can be applied here as the following 3 conditions are met:\n",
    "\n",
    "* **Random:** the problem stated that researchers \"randomly assigning identical résumés to black-sounding or white-sounding names and observing the impact on requests for interviews from employers\". Our data are random.\n",
    "\n",
    "\n",
    "\n",
    "* **Normality:** the number of successes and failures in each group (white-sounding or black-sounding) are larger than 10. The sampling distribution of sample proportion is approximate normal.\n",
    "\n",
    "\n",
    "\n",
    "* **Independent:** we can assum our data are independent in this case."
   ]
  },
  {
   "cell_type": "markdown",
   "metadata": {},
   "source": [
    "### Q2: What are the null and alternate hypotheses?\n",
    "\n",
    "**Null hypothesis :** the expected numbers of callbacks for black-sounding names and white-sounding names are the same.\n",
    "\n",
    "\n",
    "**Alternate hypothesis :** the expected numbers of callbacks for black-sounding names and white-sounding names are NOT the same.\n",
    "\n",
    "**Significance Level: 0.05**"
   ]
  },
  {
   "cell_type": "markdown",
   "metadata": {},
   "source": [
    "### Q3: Compute margin of error, confidence interval, and p-value. Try using both the bootstrapping and the frequentist statistical approaches."
   ]
  },
  {
   "cell_type": "code",
   "execution_count": 5,
   "metadata": {},
   "outputs": [
    {
     "name": "stdout",
     "output_type": "stream",
     "text": [
      "0.09650924056768417\n",
      "0.0644763857126236\n"
     ]
    }
   ],
   "source": [
    "w = data[data.race=='w']\n",
    "b = data[data.race=='b']\n",
    "\n",
    "ww = w.call\n",
    "bb = b.call\n",
    "\n",
    "print(np.mean(ww))\n",
    "print(np.mean(bb))"
   ]
  },
  {
   "cell_type": "markdown",
   "metadata": {},
   "source": [
    "#### Bootstraping"
   ]
  },
  {
   "cell_type": "code",
   "execution_count": 6,
   "metadata": {},
   "outputs": [],
   "source": [
    "# Bootstrap Replicates Function\n",
    "def draw_bs_reps(data,func,size=1):\n",
    "    \"\"\"Draw bootstrap replicates\"\"\"\n",
    "    \n",
    "    #Initialize array of replicates: bs_replicates\n",
    "    bs_replicates = np.empty(size)\n",
    "    \n",
    "    #Generate replicates\n",
    "    for i in range(size):\n",
    "        bs_replicates[i] = func(np.random.choice(data,size=len(data)))\n",
    "        \n",
    "    return bs_replicates"
   ]
  },
  {
   "cell_type": "code",
   "execution_count": 7,
   "metadata": {},
   "outputs": [
    {
     "name": "stdout",
     "output_type": "stream",
     "text": [
      "the following 3 values must be the same\n",
      "mean_p =  0.08049281314168377\n",
      "mean_ww_shifted =  0.08049110323190689\n",
      "mean_bb_shifted =  0.08049406856298447\n"
     ]
    },
    {
     "data": {
      "image/png": "[encoded data removed]",
      "text/plain": [
       "<Figure size 432x288 with 1 Axes>"
      ]
     },
     "metadata": {
      "needs_background": "light"
     },
     "output_type": "display_data"
    },
    {
     "data": {
      "image/png": "[encoded data removed]",
      "text/plain": [
       "<Figure size 432x288 with 1 Axes>"
      ]
     },
     "metadata": {
      "needs_background": "light"
     },
     "output_type": "display_data"
    },
    {
     "data": {
      "image/png": "[encoded data removed]",
      "text/plain": [
       "<Figure size 432x288 with 1 Axes>"
      ]
     },
     "metadata": {
      "needs_background": "light"
     },
     "output_type": "display_data"
    },
    {
     "name": "stdout",
     "output_type": "stream",
     "text": [
      "95% confident that the observed difference of the means between 2 groups is in the range  [-0.0151951   0.01519505] if the expected numbers of callbacks for black-sounding names and white-sounding names are the same\n",
      "\n",
      "margin of error (defined as the radius of the confidence interval) =  0.015195049345493317\n",
      "\n",
      "empirical different means =  0.03203285485506058\n",
      "p-value = 1.1e-05\n"
     ]
    }
   ],
   "source": [
    "# Compute initial difference btw 2 groups\n",
    "empirical_diff_means = np.mean(ww) - np.mean(bb)\n",
    "\n",
    "# Compute mean proportion of all groups: mean_p\n",
    "mean_p = (sum(ww)+sum(bb))/(len(ww)+len(bb))\n",
    "\n",
    "# Generate shifted arrays\n",
    "ww_shifted = ww - np.mean(ww) + mean_p\n",
    "bb_shifted = bb - np.mean(bb) + mean_p\n",
    "\n",
    "# Check \n",
    "print('the following 3 values must be the same')\n",
    "print('mean_p = ',mean_p)\n",
    "print('mean_ww_shifted = ',np.mean(ww_shifted))\n",
    "print('mean_bb_shifted = ',np.mean(bb_shifted))\n",
    "\n",
    "# Compute 1,000,000 bootstrap replicates from shifted arrays\n",
    "bs_replicates_ww = draw_bs_reps(ww_shifted, np.mean, size=1000000)\n",
    "bs_replicates_bb = draw_bs_reps(bb_shifted, np.mean, size=1000000)\n",
    "\n",
    "# Plot histograph of bs_replicates for testing\n",
    "plt.clf()\n",
    "plt.hist(bs_replicates_ww,bins=100, color = 'blue')\n",
    "plt.show()\n",
    "\n",
    "plt.hist(bs_replicates_bb,bins=100, color = 'green')\n",
    "plt.show()\n",
    "\n",
    "# Get replicates of difference of means: bs_replicates\n",
    "bs_replicates = bs_replicates_ww - bs_replicates_bb\n",
    "\n",
    "plt.hist(bs_replicates, bins=100, color = 'red')\n",
    "plt.show()\n",
    "\n",
    "# Compute confidence interval and margin of error\n",
    "conf_int_boot = np.percentile(bs_replicates,[2.5,97.5])\n",
    "print('95% confident that the observed difference of the means between 2 groups is in the range ', conf_int_boot, 'if the expected numbers of callbacks for black-sounding names and white-sounding names are the same')\n",
    "print('')\n",
    "\n",
    "margin_boot = conf_int_boot[1]\n",
    "print('margin of error (defined as the radius of the confidence interval) = ',margin_boot)\n",
    "print('')\n",
    "\n",
    "# Compute and print p-value: p\n",
    "p = np.sum(bs_replicates > empirical_diff_means) / len(bs_replicates)\n",
    "print('empirical different means = ',empirical_diff_means)\n",
    "print('p-value =', p)"
   ]
  },
  {
   "cell_type": "markdown",
   "metadata": {},
   "source": [
    "#### Bootstrap Answer: reject the null hypothesis. There is difference in the expected numbers of callbacks for black-sounding names and white-sounding names."
   ]
  },
  {
   "cell_type": "markdown",
   "metadata": {},
   "source": [
    "#### Frequentist Statistical Approach"
   ]
  },
  {
   "cell_type": "code",
   "execution_count": 9,
   "metadata": {},
   "outputs": [
    {
     "name": "stdout",
     "output_type": "stream",
     "text": [
      "confidence interval =  [-0.01528191  0.01528191]\n",
      "margin of error =  0.015281912310894095\n",
      "\n",
      "empirical difference =  0.03203285485506058\n",
      "\n",
      "z-score =  4.108412235238472\n",
      "p-value =  1.991942704752209e-05\n"
     ]
    }
   ],
   "source": [
    "# Calculate Standard Deviation of the distribution of the sample proportion of white-sounding names minus\n",
    "# the sample proportion of black-sounding names.\n",
    "\n",
    "# Note: the formation is: std = sqrt(2*p*(1-p)/n) in which n is the sample size, p is the true proportion with an\n",
    "# assumption from the null hypothesis that p1 = p2 = p\n",
    "# We do not know p, but we can estimate it using our samples. Because we assumed that there is no difference\n",
    "# between black-sounding names group and white-sounding names group, we can combine our samples as a big one \n",
    "# of size 2*n, and use this sample proportion to estimate that true proportion p. Because of this estimation,\n",
    "# the result will be a standard error.\n",
    "\n",
    "big_sample_proportion = (sum(ww)+sum(bb))/(len(ww)+len(bb)) #this big sample's size is 2*n\n",
    "se = np.sqrt(2*big_sample_proportion*(1-big_sample_proportion)/len(ww))\n",
    "\n",
    "# Calculate z-score\n",
    "z_score = (empirical_diff_means - 0)/se # mean is 0\n",
    "\n",
    "# Calculate p-value\n",
    "p_value = stats.norm.sf(abs(z_score)) #one-sided\n",
    "\n",
    "# Compute 95% confidence interval & margin of error\n",
    "conf_int_z = np.array([-1.96*se,1.96*se])\n",
    "margin_z = 1.96*se\n",
    "\n",
    "print('confidence interval = ',conf_int_z)\n",
    "print('margin of error = ', margin_z)\n",
    "print('')\n",
    "print('empirical difference = ',empirical_diff_means)\n",
    "print('')\n",
    "print('z-score = ',z_score)\n",
    "print('p-value = ',p_value)"
   ]
  },
  {
   "cell_type": "markdown",
   "metadata": {},
   "source": [
    "**Frequentist Approach Answer: reject the null hypothesis. There is difference in the expected numbers of callbacks for black-sounding names and white-sounding names.**"
   ]
  },
  {
   "cell_type": "markdown",
   "metadata": {},
   "source": [
    "### Question 4. Write a story describing the statistical significance in the context or the original problem.\n",
    "\n",
    "The null hypothesis assumes that there is no significant difference between the expected numbers of callbacks for black-sounding names and white-sounding names, given all other parameters are the same. In this study, 2 groups of black-sounding names and white-sounding names were created, and the difference in the rate of callbacks between them was found to be 0.032 (3.2%). If the assumption is correct, then the probability of getting this difference is 1.99e-05. Since this probability is much smaller than the proposed significance level of 5%, we can reject the initial assumption and conclude that there is statistically significant difference in the callback rates for black-sounding names & white-sounding names."
   ]
  },
  {
   "cell_type": "markdown",
   "metadata": {
    "collapsed": true
   },
   "source": [
    "### Question 5. Does your analysis mean that race/name is the most important factor in callback success? Why or why not? If not, how would you amend your analysis?\n",
    "This analysis only takes into account the single effect of race/name in callback success when all other parameters are the same between the 2 groups. This result may vary when other parameters, such as skills, education levels, years of experience are different between 2 groups. Thus, it does not mean that race/name is the most important factor in callback success. The conclusion could be amended as below:\n",
    "\n",
    "Given all other parameters the same, it is found that there is statistically significant difference in the callback rates for black-sounding names & white-sounding names. Specifically in this study, callback rate of white-sounding names was found to be 3.2% more than that of black-sounding names."
   ]
  },
  {
   "cell_type": "code",
   "execution_count": null,
   "metadata": {},
   "outputs": [],
   "source": []
  }
 ],
 "metadata": {
  "kernelspec": {
   "display_name": "Python 3",
   "language": "python",
   "name": "python3"
  },
  "language_info": {
   "codemirror_mode": {
    "name": "ipython",
    "version": 3
   },
   "file_extension": ".py",
   "mimetype": "text/x-python",
   "name": "python",
   "nbconvert_exporter": "python",
   "pygments_lexer": "ipython3",
   "version": "3.7.1"
  }
 },
 "nbformat": 4,
 "nbformat_minor": 1
}
